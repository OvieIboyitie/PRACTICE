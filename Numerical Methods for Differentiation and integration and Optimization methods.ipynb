{
 "cells": [
  {
   "cell_type": "markdown",
   "id": "96dfc181",
   "metadata": {},
   "source": [
    "# NUMERICAL DIFFERENTIATION\n",
    "\n",
    "  - SOLVING TAYLOR SERIES\n",
    "  - BACKWARD DIFFERENCE\n",
    "  - FORWARD DIFFERENCE\n",
    "  - CENTERED DIFFERENCE"
   ]
  },
  {
   "cell_type": "code",
   "execution_count": 2,
   "id": "eb3df18b",
   "metadata": {},
   "outputs": [],
   "source": [
    "import numpy as np\n",
    "import math\n",
    "from math import sin, pi\n",
    "import matplotlib.pyplot as plt\n",
    "plt.style.use(\"seaborn-poster\")\n"
   ]
  },
  {
   "cell_type": "code",
   "execution_count": 27,
   "id": "e6ad2d84",
   "metadata": {},
   "outputs": [
    {
     "name": "stdout",
     "output_type": "stream",
     "text": [
      "The true e^2 is: \n",
      "7.38905609893065\n"
     ]
    }
   ],
   "source": [
    "exp = 0\n",
    "x = 2\n",
    "for i in range(10):\n",
    "    exp = exp + (x**i)/np.math.factorial(i)\n",
    "print(f\"The true e^2 is: \\n{np.exp(2)}\")"
   ]
  },
  {
   "cell_type": "code",
   "execution_count": 28,
   "id": "c2684bcc",
   "metadata": {},
   "outputs": [
    {
     "name": "stdout",
     "output_type": "stream",
     "text": [
      "sine(2.4) =  0.08137919003331151\n",
      "sin(2.4) =  0.08137919002856119\n"
     ]
    }
   ],
   "source": [
    "def fact(n): \n",
    "    if (n == 0 or n == 1):\n",
    "        return 1\n",
    "    return n*fact(n-1)   # 4 * 3 * 2 * 1 = 4! \n",
    "\n",
    "tol = 1e-5\n",
    "max_iter = 100\n",
    "\n",
    "def sine(x):\n",
    "    x = x % pi\n",
    "    prev_sum = 0.0\n",
    "    current_sum = x\n",
    "    n = 1\n",
    "    \n",
    "    while ((abs(current_sum - prev_sum) >= tol)):\n",
    "        prev_sum = current_sum\n",
    "        current_sum += (-1)**n * (x** (2*n + 1))/fact(2*n + 1)\n",
    "        n += 1\n",
    "\n",
    "        if (n > max_iter):\n",
    "            break\n",
    "\n",
    "    return current_sum\n",
    "\n",
    "\n",
    "print(\"sine(2.4) = \", sine(3.142*200))\n",
    "print(\"sin(2.4) = \", sin(3.142*200))\n"
   ]
  },
  {
   "cell_type": "code",
   "execution_count": 29,
   "id": "370d658f",
   "metadata": {},
   "outputs": [
    {
     "data": {
      "text/plain": [
       "0.0"
      ]
     },
     "execution_count": 29,
     "metadata": {},
     "output_type": "execute_result"
    }
   ],
   "source": [
    "''' Backward difference '''\n",
    "backWard  = lambda f,x,h : (f(x) - f(x-h))/h\n",
    "\n",
    "''' Foward difference '''\n",
    "forWard   = lambda f,x,h : (f(x+h) - f(x))/h\n",
    "\n",
    "''' Centered difference '''\n",
    "centered  = lambda f,x,h : (f(x+h) - f(x-h))/(2*h)\n",
    "\n",
    "class Differential():\n",
    "    def __init__(self,x,f,h,y=None):\n",
    "        self.x = x\n",
    "        self.f = f\n",
    "        self.h = h\n",
    "        self.y = y\n",
    "        \n",
    "    def forward_difference(self):\n",
    "        diff = (f(self.x+self.h) - f(self.x))/self.h\n",
    "        return diff\n",
    "        \n",
    "    def backward_difference(self):\n",
    "        diff = (f(self.x) - f(self.x-self.h))/self.h\n",
    "        return diff\n",
    "    \n",
    "    def centered_difference(self):\n",
    "        diff = (f(self.x+self.h) - f(self.x-self.h))/(2*self.h)\n",
    "        return diff\n",
    "    \n",
    "        \n",
    "def f(x):\n",
    "    return (math.cos(x))\n",
    "\n",
    "        \n",
    "c = Differential(0,f,0.01)\n",
    "c.forward_difference()\n",
    "c.backward_difference()\n",
    "c.centered_difference()\n",
    "\n"
   ]
  },
  {
   "cell_type": "markdown",
   "id": "4cf8df80",
   "metadata": {},
   "source": [
    "# ROOT FINDING METHODS\n",
    " - BRACKETING METHODS\n",
    "  - BISECTION METHOD\n",
    "  - FALSE POSITION METHOD\n",
    "  - MODIFIED REGILA FALSI METHOD\n",
    " - OPEN METHODS\n",
    "  - FIXED POINT ITERATION\n",
    "  - NEWTON RALHPSON METHOD"
   ]
  },
  {
   "cell_type": "markdown",
   "id": "d32e67c4",
   "metadata": {},
   "source": [
    "### BRACKETING METHODS"
   ]
  },
  {
   "cell_type": "markdown",
   "id": "39f1ed46",
   "metadata": {},
   "source": [
    "#### BISECTION METHOD"
   ]
  },
  {
   "cell_type": "code",
   "execution_count": 30,
   "id": "315a7f1e",
   "metadata": {},
   "outputs": [
    {
     "name": "stdout",
     "output_type": "stream",
     "text": [
      "The root of the sine function between 0.2, 5 = 3.141592653589793\n"
     ]
    }
   ],
   "source": [
    "def bisection(func, x_lower, x_upper, tol, iter_max = 200):\n",
    "    # In this method the estimate of the root is obtained \n",
    "    # from bisecting the interval\n",
    "    \n",
    "    iter = 0\n",
    "    ea = 100000\n",
    "    f_x_lower = func(x_lower)\n",
    "    f_x_upper = func(x_upper)\n",
    "\n",
    "    if (f_x_lower * f_x_upper > 0):\n",
    "        print(\"The given interval does not bracket the root or the interval has multiple roots\")\n",
    "        return\n",
    "\n",
    "    while(ea > tol or iter < iter_max): \n",
    "\n",
    "        x_root = (x_lower + x_upper)/2.0\n",
    "        # 1st interval x_lower to x_root, (x_lower, x_root)\n",
    "        # 2nd interval x_root to x_upper, (x_root, x_upper)\n",
    "\n",
    "        # A root is in an interval (a, b) if and only if \n",
    "        # f(a)f(b)<=0\n",
    "\n",
    "        f_x_root = func(x_root)\n",
    "\n",
    "        if (f_x_lower * f_x_root <= 0): \n",
    "            x_upper = x_root\n",
    "            f_x_upper = f_x_root\n",
    "            \n",
    "        else:\n",
    "            x_lower = x_root\n",
    "            f_x_lower = f_x_root\n",
    "        \n",
    "        ea =  abs((x_upper - x_lower)/( x_upper + x_lower)) * 100 # Relative error\n",
    "        iter += 1\n",
    "        # ea = abs((x_root_new - x_root_old)/x_root_new) * 100\n",
    "    \n",
    "    return (x_lower + x_upper)/2\n",
    "\n",
    "\n",
    "print(\"The root of the sine function between 0.2, 5 =\", bisection(sin, 0.2, 5, 0.01))\n"
   ]
  },
  {
   "cell_type": "markdown",
   "id": "3883b685",
   "metadata": {},
   "source": [
    "#### FALSE POSITION OR REGULA FALSI METHOD"
   ]
  },
  {
   "cell_type": "code",
   "execution_count": 31,
   "id": "4d8a7c3e",
   "metadata": {},
   "outputs": [
    {
     "name": "stdout",
     "output_type": "stream",
     "text": [
      "------------->>>>>>>>>>>>>REGULA FALSI METHOD<<<<<<<<<<<<<-------------------\n",
      "\n",
      "The root of the function is = 0.9996886513360608 39 \n",
      "\n"
     ]
    }
   ],
   "source": [
    "def test_func1(x):            #used to derive f(x) from x\n",
    "    return x**10 - 1\n",
    "def test_func11(y):           #used to derive x from f(x)\n",
    "    #y = x**10 - 1\n",
    "    x = (y+1)**0.1\n",
    "    return x\n",
    "\n",
    "def test_func2(c):\n",
    "    return (9.8*68.1/c)*(1 - exp(-10*c/68))-40\n",
    "def test_func21(y):\n",
    "    x = ((y+40)/9.8*68.1)\n",
    "\n",
    "    \n",
    "print(\"------------->>>>>>>>>>>>>REGULA FALSI METHOD<<<<<<<<<<<<<-------------------\\n\")\n",
    "def false_position(func, x_lower, x_upper, tol, iter_max = 200):\n",
    "    iter = 0\n",
    "    ea = 100000\n",
    "    f_x_lower = func(x_lower)\n",
    "    f_x_upper = func(x_upper)\n",
    "\n",
    "    if (f_x_lower * f_x_upper > 0):\n",
    "        print(\"The given interval does not bracket the root or the interval has multiple roots\")\n",
    "        return\n",
    "\n",
    "    x_root = (x_lower + x_upper)/2 \n",
    "\n",
    "    #\n",
    "    while(ea > tol and iter < iter_max): \n",
    "        x_root_old = x_root\n",
    "        x_root = x_upper - (func(x_upper)*(x_lower - x_upper))/(func(x_lower) - func(x_upper))\n",
    "\n",
    "        f_x_root = func(x_root)\n",
    "\n",
    "        if (f_x_lower * f_x_root <= 0): \n",
    "            x_upper = x_root\n",
    "            f_x_upper = f_x_root\n",
    "            \n",
    "        else:\n",
    "            x_lower = x_root\n",
    "            f_x_lower = f_x_root\n",
    "        \n",
    "        ea = abs((x_root - x_root_old)/x_root)*100 #Relative error\n",
    "        iter += 1\n",
    "    \n",
    "    return (x_root, iter)\n",
    "\n",
    "\n",
    "sol = false_position(test_func1, 0, 1.3, 0.01)\n",
    "\n",
    "print(\"The root of the function is =\", sol[0], sol[1],\"\\n\")\n"
   ]
  },
  {
   "cell_type": "markdown",
   "id": "8809f3a0",
   "metadata": {},
   "source": [
    "#### MODIFIED REGULA FALSI METHOD"
   ]
  },
  {
   "cell_type": "code",
   "execution_count": 32,
   "id": "02c242f6",
   "metadata": {},
   "outputs": [
    {
     "name": "stdout",
     "output_type": "stream",
     "text": [
      "------------->>>>>>>>>>>>> MODIFIED REGULA FALSI METHOD<<<<<<<<<<<<<-------------------\n",
      "\n",
      "The root of the function is = 0.9999186317806551 20\n"
     ]
    },
    {
     "data": {
      "image/png": "[encoded data removed]",
      "text/plain": [
       "<Figure size 921.6x633.6 with 1 Axes>"
      ]
     },
     "metadata": {
      "needs_background": "light"
     },
     "output_type": "display_data"
    }
   ],
   "source": [
    "print(\"------------->>>>>>>>>>>>> MODIFIED REGULA FALSI METHOD<<<<<<<<<<<<<-------------------\\n\")   \n",
    "    \n",
    "def modified_false_position(func,func1, x_lower, x_upper, tol, iter_max = 200):\n",
    "    iter = 1\n",
    "    ea = 100000\n",
    "    f_x_lower = func(x_lower)\n",
    "    f_x_upper = func(x_upper)\n",
    "\n",
    "    if (f_x_lower * f_x_upper > 0):\n",
    "        print(\"The given interval does not bracket the root or the interval has multiple roots\")\n",
    "        return\n",
    "\n",
    "    x_root = (x_lower + x_upper)/2 \n",
    "\n",
    "    xupper_new = x_upper\n",
    "    while(ea > tol and iter < iter_max):\n",
    "        if iter%3 == 0:\n",
    "            x_root_old = x_root\n",
    "            xupper_new = func1(func(xupper_new)/2)\n",
    "            #print(xupper_new)\n",
    "            x_root = xupper_new - (func(xupper_new)*(x_lower - xupper_new))/(func(x_lower) - func(xupper_new))\n",
    "\n",
    "            f_x_root = func(x_root)\n",
    "\n",
    "            if (f_x_lower * f_x_root <= 0): \n",
    "                x_upper = x_root\n",
    "                f_x_upper = f_x_root\n",
    "\n",
    "            else:\n",
    "                x_lower = x_root\n",
    "                f_x_lower = f_x_root\n",
    "            \n",
    "        else:\n",
    "            x_root_old = x_root\n",
    "            x_root = x_upper - (func(x_upper)*(x_lower - x_upper))/(func(x_lower) - func(x_upper))\n",
    "\n",
    "            f_x_root = func(x_root)\n",
    "\n",
    "            if (f_x_lower * f_x_root <= 0): \n",
    "                x_upper = x_root\n",
    "                f_x_upper = f_x_root\n",
    "\n",
    "            else:\n",
    "                x_lower = x_root\n",
    "                f_x_lower = f_x_root\n",
    "        \n",
    "        ea = abs((x_root - x_root_old)/x_root)*100 #Relative error\n",
    "        iter += 1\n",
    "    \n",
    "    return (x_root, iter)\n",
    "\n",
    "\n",
    "sol = modified_false_position(test_func1, test_func11, 0, 1.3, 0.01)\n",
    "\n",
    "print(\"The root of the function is =\", sol[0], sol[1])\n",
    "import matplotlib.pyplot as plt\n",
    "import numpy as np\n",
    "\n",
    "x_values = np.linspace(1,40,200)\n",
    "y_values = [test_func1(x_value) for x_value in x_values]\n",
    "plt.plot(x_values, y_values)\n",
    "plt.grid()\n",
    "plt.show()"
   ]
  },
  {
   "cell_type": "markdown",
   "id": "d28020d5",
   "metadata": {},
   "source": [
    "### OPEN METHODS"
   ]
  },
  {
   "cell_type": "markdown",
   "id": "4c8f9a8d",
   "metadata": {},
   "source": [
    "#### FIXED POINT ITERATION"
   ]
  },
  {
   "cell_type": "code",
   "execution_count": 12,
   "id": "41299a37",
   "metadata": {},
   "outputs": [
    {
     "data": {
      "text/plain": [
       "2.355788348330863"
      ]
     },
     "execution_count": 12,
     "metadata": {},
     "output_type": "execute_result"
    }
   ],
   "source": [
    "def fixed_point_iteration(f,x,tol, max_iter):\n",
    "    x_new = f(x)\n",
    "    _iter = 0\n",
    "    while _iter < max_iter:\n",
    "        x_old = x_new\n",
    "        x_new = f(x_old)\n",
    "        if abs(x_old - x_new) <= tol:\n",
    "            return x_new\n",
    "    return x_new\n",
    "def func(x):\n",
    "    return np.log(x**2 + 5)\n",
    "def func1(x):\n",
    "    return x**2 - np.exp(x) + 5\n",
    "\n",
    "def sines(x):\n",
    "    return np.sin(x)\n",
    "\n",
    "#fixed_point_iteration(sine, 3, 0.001, 200)\n",
    "fixed_point_iteration(func, 2, 0.001, 200)\n",
    "\n",
    "#newton_ralphson(f1, 0.5825, 0.0001, 200)\n",
    "#fixed_point_iteration(f1, 0.5825,0.0001,200)"
   ]
  },
  {
   "cell_type": "markdown",
   "id": "0b030e37",
   "metadata": {},
   "source": [
    "#### NEWTON RALPHSON METHOD"
   ]
  },
  {
   "cell_type": "code",
   "execution_count": 16,
   "id": "92641a1b",
   "metadata": {},
   "outputs": [
    {
     "name": "stdout",
     "output_type": "stream",
     "text": [
      "2.356353392127161\n"
     ]
    }
   ],
   "source": [
    "centered  = lambda f,x,h : (f(x+h) - f(x-h))/(2*h)\n",
    "def newton(f,x,tol, max_iter):\n",
    "    _iter = 0\n",
    "    x_new = x\n",
    "    while _iter < max_iter:\n",
    "        x_old = x_new\n",
    "        numerator = f(x_old)\n",
    "        denominator = centered(f,x_old,0.0000000000001)\n",
    "        x_new = x_old - numerator/denominator\n",
    "        _iter +=1\n",
    "        if abs(x_old - x_new) <= tol:\n",
    "            return x_new\n",
    "    return x_new\n",
    "#newton(func1, 2, 0.001, 200)\n",
    "\n",
    "\n",
    "# Provide solution here\n",
    "\n",
    "func  =  lambda x : (x**5) - (16.05* (x**4)) + (88.75*(x**3)) - (192.0375 * (x**2)) + (116.35 * x) + 31.6875\n",
    "\n",
    "#DERIVE\n",
    "\n",
    "def firstDiff(x , dx = 0.001):\n",
    "    #Evaluate Diffferential using central difference method\n",
    "    num   = func(x+dx) - func(x-dx) \n",
    "    denum = 2* dx\n",
    "    return num/denum\n",
    "centered  = lambda f,x,h : (f(x+h) - f(x-h))/(2*h)\n",
    "                                                # Returns the root of the equation \n",
    "\n",
    "print(newton(func1, 2, 0.001, 200))\n"
   ]
  },
  {
   "cell_type": "code",
   "execution_count": 55,
   "id": "59504030",
   "metadata": {},
   "outputs": [
    {
     "data": {
      "text/plain": [
       "-1.000000082740371"
      ]
     },
     "execution_count": 55,
     "metadata": {},
     "output_type": "execute_result"
    }
   ],
   "source": [
    "x= centered(sines,np.pi,0.000000001)\n",
    "x"
   ]
  },
  {
   "cell_type": "markdown",
   "id": "4eb206f4",
   "metadata": {},
   "source": [
    "# SYSTEMS OF LINEAR EQUATION"
   ]
  },
  {
   "cell_type": "markdown",
   "id": "8e7947d3",
   "metadata": {},
   "source": [
    "### GAUSSIAN ELIMINATION METHOD"
   ]
  },
  {
   "cell_type": "code",
   "execution_count": 75,
   "id": "8f0b6ea6",
   "metadata": {},
   "outputs": [
    {
     "name": "stdout",
     "output_type": "stream",
     "text": [
      "0\n",
      "1\n",
      "[-14.0, 26.666666666666668, 35.0]\n",
      "[10.000000000000002, 22.000000000000004, 14.000000000000002]\n"
     ]
    }
   ],
   "source": [
    "import numpy as np\n",
    "\n",
    "# Naive Gaussian Elimination algorithm\n",
    "''' \n",
    "// Transform the coefficient matrix to the upper triangular form\n",
    "// Backward substitution to get the solution of the system\n",
    "x = b * inv(A)\n",
    "---------------------------------------------------\n",
    "    6 x1 - 4 x2 + x3 = -14 ...(1)        R1\n",
    "    -4 x1 + 6 x2 - 4 x3 = 36 ... (2)     R2 \n",
    "    x1 - 4 x2 - 6 x3 = 6 ...(3)          R3\n",
    "---------------------------------------------------\n",
    " -4 - 6 * factor = 0\n",
    " factor = -4/6\n",
    " R2 <-- R2 - R1*(-4/6) \n",
    " 0 x1 + 10/3 x2 - 10/3 x3 = 80/3\n",
    " R3 <-- R3 - R1*(1/6)\n",
    " 0 x1 - 10/3 x2 + 35/6 x3 = 25/3\n",
    "\n",
    " R3 <-- R3 - R2*(-1)\n",
    " 0 x1 + 0 x2 + 5/2 x3 = 35\n",
    " -------------------------------------------\n",
    "    6 x1 - 4 x2 + x3 = -14 ...(1)        R1\n",
    "    0 x1 + 10/3 x2 - 10/3 x3 = 80/3      R2\n",
    "    0 x1 + 0 x2 + 5/2 x3 = 35            R3\n",
    "--------------------------------------------\n",
    "\n",
    "\n",
    "//Simple elementary row operations to the system\n",
    "    c11 x1 + c12 x2 + c13 x3 = d1    /// Upper triangular matrix\n",
    "    0      + c22 x2 + c23 x3 = d2\n",
    "    0      +     0  + c33 x3 = d3\n",
    "\n",
    "\n",
    "------------------------------------------------\n",
    "Backward substitution\n",
    "    Ax = b\n",
    "    A = [[6, -4, 1],\n",
    "         [-4, 6, -4],\n",
    "         [1, -4, -6]]\n",
    "\n",
    "    b = [-14, 36, 6]\n",
    "\n",
    "    x = [x1, x2, x3]\n",
    "    -------------------------------------------------\n",
    "'''\n",
    "\n",
    "def gaussElimin(a,b):\n",
    "\n",
    "    # 3x3 \n",
    "    # n = 3\n",
    "    # 0, 1\n",
    "    n = len(b)\n",
    "    # Elimination Phase\n",
    "    for k in range(0,n-1): # Column\n",
    "        print(k)\n",
    "        for i in range(k+1,n): # Row 1, 2\n",
    "            # if a[i,k] != 0.0:\n",
    "            fact = a[i][k]/a[k][k]\n",
    "\n",
    "            for j in range(k, n):\n",
    "                a[i][j] = a[i][j] - fact*a[k][j]\n",
    "            \n",
    "            b[i] = b[i] - fact*b[k]\n",
    "\n",
    "            # lam = a[i,k]/a[k,k] # lam = a[1,0]/a[0, 0] \n",
    "            # a[i,k:n] = a[i,k:n] - lam*a[k,k:n] # columns\n",
    "            # b[i] = b[i] - lam*b[k] # columns\n",
    "\n",
    "    print(b)\n",
    "    \n",
    "    # Back substitution\n",
    "    for k in range(n-1, -1, -1): # range(2, -1, -1)\n",
    "        # x[n-1] = x[2] = b[n-1]/a[n-1][n-1] =  b[2]/a[2][2]\n",
    "        # x[n-2] = x[1] = (b[1] - a[1][2]*x2)/a[1][1]\n",
    "        # x[n-3] = x[0] = (b[0] - a[0][1]*x1 - a[0][2]*x2)/a[0][0]\n",
    "\n",
    "        # x_k = b_k - (sum from k + 1 to n --> a_kj*xj where j is the loop variable)\n",
    "\n",
    "        sum = 0\n",
    "        for j in range(k+1, n):\n",
    "            sum += a[k][j] * b[j]\n",
    "\n",
    "        b[k] = (b[k] - sum)/a[k][k]\n",
    "\n",
    "\n",
    "\n",
    "\n",
    "    # for k in range(n-1,-1,-1):\n",
    "    #     b[k] = (b[k] - np.dot(a[k,k+1:n],b[k+1:n]))/a[k,k]\n",
    "    return b\n",
    "\n",
    "\n",
    "a = [[6., -4., 1. ],\n",
    "            [-4., 6., -4.],\n",
    "            [1., -4., 6.]]\n",
    "\n",
    "b = [-14., 36., 6.]\n",
    "\n",
    "print(gaussElimin(a, b))"
   ]
  },
  {
   "cell_type": "markdown",
   "id": "a864e453",
   "metadata": {},
   "source": [
    "# SOLVING DIFFERENTIAL EQUATIONS\n",
    "- EULER METHOD\n",
    "- EULER CAUCHY\n",
    "- RUNGE KUTTA METHOD"
   ]
  },
  {
   "cell_type": "markdown",
   "id": "822a2d25",
   "metadata": {},
   "source": [
    "### EULER METHOD"
   ]
  },
  {
   "cell_type": "code",
   "execution_count": 80,
   "id": "564fe8cb",
   "metadata": {},
   "outputs": [],
   "source": [
    "import math\n",
    "import matplotlib.pyplot as plt\n",
    "def Euler_Method(x,x2,y,h,func):\n",
    "    yN = y + h * func(x,y)\n",
    "    xlist = []\n",
    "    ynumerical = []\n",
    "    ya = 3*x + math.exp(1-x) \n",
    "    yana = []\n",
    "    while x <= x2 :\n",
    "        ynumerical.append(y)\n",
    "        y_prime = func(x,y)\n",
    "        yN = y + h * y_prime\n",
    "        ya = 3*x + math.exp(1-x)\n",
    "        yana.append(ya)\n",
    "        xlist.append(x)\n",
    "        #ynumerical.append(yN)\n",
    "        x = x + h\n",
    "        y = yN\n",
    "    return xlist, ynumerical, yana\n",
    "def func11(x,y):\n",
    "    return (3*(1+x)-y)\n",
    "a = Euler_Method(1,2,4, 0.2, func11)"
   ]
  },
  {
   "cell_type": "code",
   "execution_count": 7,
   "id": "1a0d6ad0",
   "metadata": {},
   "outputs": [
    {
     "data": {
      "image/png": "[encoded data removed]",
      "text/plain": [
       "<Figure size 921.6x633.6 with 1 Axes>"
      ]
     },
     "metadata": {
      "needs_background": "light"
     },
     "output_type": "display_data"
    },
    {
     "name": "stderr",
     "output_type": "stream",
     "text": [
      "No handles with labels found to put in legend.\n"
     ]
    },
    {
     "data": {
      "image/png": "[encoded data removed]",
      "text/plain": [
       "<Figure size 921.6x633.6 with 1 Axes>"
      ]
     },
     "metadata": {
      "needs_background": "light"
     },
     "output_type": "display_data"
    }
   ],
   "source": [
    "import math\n",
    "import matplotlib.pyplot as plt\n",
    "def Euler_Method(x,x2,y,h,func):\n",
    "    yN = y + h * func(x,y)\n",
    "    xlist = []\n",
    "    ynumerical = []\n",
    "    ya = -1 * math.exp(-x) \n",
    "    yana = []\n",
    "    while x <= x2 :\n",
    "        ynumerical.append(y)\n",
    "        y_prime = func(x,y)\n",
    "        yN = y + h * y_prime\n",
    "        ya = -1 * math.exp(-x) \n",
    "        yana.append(ya)\n",
    "        xlist.append(x)\n",
    "        #ynumerical.append(yN)\n",
    "        x = x + h\n",
    "        y = yN\n",
    "    return xlist, ynumerical, yana\n",
    "def func11(x,y):\n",
    "    return np.exp(-x)\n",
    "a = Euler_Method(0,2,-1, 0.02, func11)\n",
    "x_values = a[0]\n",
    "#print(\">>>>>>>>>>>>>>> x_values <<<<<<<<<<<<<<<< \\n\")\n",
    "#print(x_values)\n",
    "y_num_values = a[1]\n",
    "#print(\">>>>>>>>>>>>>>> y_num_values <<<<<<<<<<<<<<<< \\n\")\n",
    "#print(y_num_values)\n",
    "y_anal_values = a[2]\n",
    "#print(\">>>>>>>>>>>>>>> y_anal_values <<<<<<<<<<<<<<<< \\n\")\n",
    "#print(y_anal_values)\n",
    "error = [analy - numeric for analy, numeric in zip(y_anal_values, y_num_values)]\n",
    "#print(\">>>>>>>>>>>>>>> error <<<<<<<<<<<<<<<< \\n\")\n",
    "#print(error)\n",
    "plt.plot(x_values, y_num_values, \"--b\", label = \"Numerical\")\n",
    "plt.plot(x_values, y_anal_values, \"-r\", label = \"Analytical\")\n",
    "plt.legend(loc = \"upper left\")\n",
    "#plt.plot(x_values, error)\n",
    "plt.grid()\n",
    "plt.show()\n",
    "plt.legend(loc = \"upper left\")\n",
    "plt.plot(x_values, error, \"-r\", label = \"error\")\n",
    "plt.legend(loc = \"upper left\")\n",
    "plt.grid()\n",
    "plt.show()"
   ]
  },
  {
   "cell_type": "markdown",
   "id": "01b5e78c",
   "metadata": {},
   "source": [
    "### EULER CAUCHY METHOD"
   ]
  },
  {
   "cell_type": "code",
   "execution_count": 79,
   "id": "d5f4941f",
   "metadata": {},
   "outputs": [],
   "source": [
    "def Euler_Cuachy_Method(x,x2,y,h,func):\n",
    "    y_prime = func(x,y)\n",
    "    #y_aux = y + h * func(x,y)\n",
    "    #yN = y + 0.5 * h * (y_prime + (y_aux - x))\n",
    "    x_list = []\n",
    "    y_numerical = []\n",
    "    yA = (x + 1) + 1 * math.exp(x)\n",
    "    y_analtical = []\n",
    "    #i = 1\n",
    "    while x < (x2+h) :\n",
    "        y_numerical.append(y)\n",
    "        x_list.append(x)\n",
    "        y_analtical.append(yA)\n",
    "        x = x + h\n",
    "        y_aux = y + h * y_prime\n",
    "        yN = y + 0.5 * h * (y_prime + func(x,y_aux))\n",
    "        y = yN\n",
    "        yA = (x + 1) + 1 * math.exp(x) \n",
    "        \n",
    "        y_prime = func(x,yN)\n",
    "    return x_list, y_numerical, y_analtical\n",
    "\n",
    "def func11(x,y):\n",
    "    return (y-x)\n",
    "def cosine(x,y):\n",
    "    return(math.cos(x))\n",
    "\n",
    "a = Euler_Cuachy_Method(0,0.5,2, 0.1, func11)    "
   ]
  },
  {
   "cell_type": "markdown",
   "id": "79905a62",
   "metadata": {},
   "source": [
    "# NUMERICAL INTEGRATION\n",
    "\n",
    "- TRIANGULAR METHOD\n",
    "- TRAPEZOIDAL METHOD\n",
    "- SIMPSON 1/8 METHHOD\n",
    "- SIMPSON 3/8 METHOD"
   ]
  },
  {
   "cell_type": "markdown",
   "id": "cb48a4e2",
   "metadata": {},
   "source": [
    "### TRAPEZOIDAL METHOD"
   ]
  },
  {
   "cell_type": "code",
   "execution_count": 82,
   "id": "d7eb7deb",
   "metadata": {},
   "outputs": [
    {
     "name": "stdout",
     "output_type": "stream",
     "text": [
      "1e-06\n"
     ]
    },
    {
     "data": {
      "text/plain": [
       "0.693147680575747"
      ]
     },
     "execution_count": 82,
     "metadata": {},
     "output_type": "execute_result"
    }
   ],
   "source": [
    "import numpy as np\n",
    "def trapezoidal(a,b,f,h=None,n=None):\n",
    "    try:\n",
    "        h = (b-a)/n\n",
    "        print(h, n)\n",
    "        x_values = np.linspace(a,b,n+1)\n",
    "    except Exception:\n",
    "        x_values = np.arange(a,b+h,h)\n",
    "        print(h)\n",
    "    sum_ = f(x_values[0]) + f(x_values[-1])\n",
    "    for i in x_values[1:-1]:\n",
    "        sum_ += 2*f(i)\n",
    "    return h/2 * sum_\n",
    "\n",
    "def func(x):\n",
    "    return 1/x\n",
    "trapezoidal(1,2,func,h=0.000001)"
   ]
  },
  {
   "cell_type": "markdown",
   "id": "93578e87",
   "metadata": {},
   "source": [
    "### RECTANGULAR METHOD"
   ]
  },
  {
   "cell_type": "code",
   "execution_count": 84,
   "id": "2eac24d9",
   "metadata": {},
   "outputs": [
    {
     "name": "stdout",
     "output_type": "stream",
     "text": [
      "0.001\n"
     ]
    },
    {
     "data": {
      "text/plain": [
       "0.6938972430599573"
      ]
     },
     "execution_count": 84,
     "metadata": {},
     "output_type": "execute_result"
    }
   ],
   "source": [
    "def rectangular(a,b,f,h=None,n=None):\n",
    "    try:\n",
    "        h = (b-a)/n\n",
    "        print(h, n)\n",
    "        x_values = np.linspace(a,b,n+1)\n",
    "        #print(x_values)\n",
    "    except Exception:\n",
    "        x_values = np.arange(a,b+h,h)\n",
    "        print(h)\n",
    "    sum_ = 0\n",
    "    for i in x_values:\n",
    "        sum_ += f(i)\n",
    "    return h * sum_\n",
    "rectangular(1,2,func,h=0.001)    "
   ]
  },
  {
   "cell_type": "markdown",
   "id": "01626b90",
   "metadata": {},
   "source": [
    "### SIMPSON'S 1/3 METHOD"
   ]
  },
  {
   "cell_type": "code",
   "execution_count": 85,
   "id": "77a1f974",
   "metadata": {},
   "outputs": [
    {
     "data": {
      "text/plain": [
       "1.4642077146395185"
      ]
     },
     "execution_count": 85,
     "metadata": {},
     "output_type": "execute_result"
    }
   ],
   "source": [
    "def simpson_1_3(a,b,f,n):\n",
    "    if n != None and n%2 == 0:\n",
    "        h = (b-a)/n\n",
    "        x_values = np.linspace(a,b,n+1)\n",
    "        sum_ = f(x_values[0]) + f(x_values[-1])\n",
    "        for i in range(1,n):\n",
    "            if i%2 == 0:\n",
    "                sum_ += 2*f(x_values[i])\n",
    "            else:\n",
    "                sum_ += 4*f(x_values[i])\n",
    "        return h/3 * sum_\n",
    "    elif n != None and n%2 == 1:\n",
    "        print(\"n has to be an even number\")\n",
    "    \n",
    "def func12(x):\n",
    "    return 1/(np.sqrt(x+1))\n",
    "\n",
    "simpson_1_3(0,2,func12,6)\n",
    "\n"
   ]
  },
  {
   "cell_type": "markdown",
   "id": "18767374",
   "metadata": {},
   "source": [
    "### SIMPSON'S 3/8 METHOD"
   ]
  },
  {
   "cell_type": "code",
   "execution_count": 86,
   "id": "eb466f38",
   "metadata": {},
   "outputs": [
    {
     "data": {
      "text/plain": [
       "1.4643135462314754"
      ]
     },
     "execution_count": 86,
     "metadata": {},
     "output_type": "execute_result"
    }
   ],
   "source": [
    "def simpson_3_8(a,b,f,n):\n",
    "    if n != None and n%3 == 0:\n",
    "        h = (b-a)/n\n",
    "        x_values = np.linspace(a,b,n+1)\n",
    "        sum_ = f(x_values[0]) + f(x_values[-1])\n",
    "        for i in range(1,n):\n",
    "            if i%3 == 0:\n",
    "                sum_ += 2*f(x_values[i])\n",
    "            else:\n",
    "                sum_ += 3*f(x_values[i])\n",
    "        return 3*h/8 * sum_\n",
    "    else:\n",
    "        print(\"n has to be a multiple of 3\")\n",
    "    \n",
    "simpson_3_8(0,2,func12,6)    "
   ]
  },
  {
   "cell_type": "markdown",
   "id": "deaec4b1",
   "metadata": {},
   "source": [
    "# OPTIMIZATION METHODS\n",
    "- UNIVARIATE METHODS\n",
    " - GOLDEN SEARCH SECTION\n",
    " - PARABOLIC INTEROLATION\n",
    " - NEWTON METHOD\n",
    "- MULTIVARIATE METHODS\n",
    " - STEEPEST DESCENT METHOD\n",
    " - NEWTON METHOD"
   ]
  },
  {
   "cell_type": "markdown",
   "id": "65c935e1",
   "metadata": {},
   "source": [
    "### UNIVARIATE METHODS"
   ]
  },
  {
   "cell_type": "markdown",
   "id": "b2e2b8fa",
   "metadata": {},
   "source": [
    "#### NEWTON INTERPOLATION"
   ]
  },
  {
   "cell_type": "code",
   "execution_count": 91,
   "id": "d4292b58",
   "metadata": {},
   "outputs": [
    {
     "name": "stdout",
     "output_type": "stream",
     "text": [
      "The minimum value of the function is: 1.5707963267949059\n"
     ]
    }
   ],
   "source": [
    "import sys\n",
    "from math import sin, pi\n",
    "def newton_interpolation(f, x,max_iter, tol):\n",
    "    calc_tol = 10000000\n",
    "    x_opt = x\n",
    "    _iter = 1\n",
    "    h = 0.001\n",
    "    #f0 = f(x0)\n",
    "    backWard  = lambda f,x,h : (f(x) - f(x-h))/h\n",
    "    forWard   = lambda f,x,h : (f(x+h) - f(x))/h\n",
    "    centered  = lambda f,x,h : (f(x+h) - f(x-h))/(2*h)\n",
    "    sec_order = lambda f,x,h : (forWard(f,x,h)-backWard(f,x,h))/h\n",
    "    try:\n",
    "        first_differential = centered(f,x_opt,h)\n",
    "        second_differential = sec_order(f,x_opt,h)\n",
    "        x_opt = x_opt - (first_differential/second_differential)\n",
    "    except ZeroDivisionError:\n",
    "        return x_opt\n",
    "    while (calc_tol >= tol and _iter < max_iter):\n",
    "        first_differential = centered(f,x_opt,h)\n",
    "        second_differential = sec_order(f,x_opt,h)\n",
    "        x_old = x_opt\n",
    "        try:\n",
    "            x_opt = x_opt - (first_differential/second_differential)\n",
    "        except ZeroDivisionError:\n",
    "            return x_opt\n",
    "        _iter += 1\n",
    "        calc_tol = abs(x_old-x_opt) # This is not the absolute error\n",
    "        if _iter == max_iter:\n",
    "            break\n",
    "    return x_opt\n",
    "        \n",
    "sine = lambda x: -sin(x) \n",
    "result = newton_interpolation(sine,0.6*pi,200, 0.00000000001)\n",
    "print(f\"The minimum value of the function is: {result}\")"
   ]
  },
  {
   "cell_type": "markdown",
   "id": "712a5f10",
   "metadata": {},
   "source": [
    "#### GOLDEN SEARCH METHOD"
   ]
  },
  {
   "cell_type": "code",
   "execution_count": 87,
   "id": "476f4b70",
   "metadata": {},
   "outputs": [
    {
     "name": "stdout",
     "output_type": "stream",
     "text": [
      "The maximum value of the function is: 1.5707963169257235 after 44 iterations\n",
      "f(x) = 1.0\n"
     ]
    },
    {
     "data": {
      "image/png": "[encoded data removed]",
      "text/plain": [
       "<Figure size 921.6x633.6 with 1 Axes>"
      ]
     },
     "metadata": {
      "needs_background": "light"
     },
     "output_type": "display_data"
    }
   ],
   "source": [
    "import sys\n",
    "import matplotlib.pyplot as plt\n",
    "import numpy as np\n",
    "from math import sin, pi\n",
    "# x_low => lower limit\n",
    "# x_high => upper limit\n",
    "\n",
    "def golden_search(f, x_low, x_high, max_iter, es):\n",
    "    ea = sys.float_info.max\n",
    "    R = (5**(0.5) - 1)/2.0\n",
    "    x_l = x_low\n",
    "    x_u = x_high\n",
    "    _iter = 1\n",
    "    d = R*(x_u - x_l)\n",
    "    x1 = x_l + d\n",
    "    x2 = x_u - d\n",
    "    f1 = f(x1)\n",
    "    f2 = f(x2)\n",
    "    xopt = x1\n",
    "    fopt = f1\n",
    "\n",
    "\n",
    "    # if f1 > f2:\n",
    "    #     xopt = x1\n",
    "    #     fopt = f1\n",
    "    # else: \n",
    "    #     xopt = x2\n",
    "    #     fopt = f2\n",
    "\n",
    "    # These are the conditions\n",
    "    # (a, x2, x1, b)\n",
    "    # Interval (a, b) \n",
    "    # If f1 > f2 ==> Shrink the interval from the left; a = x2; x2 = x1 and b = b: (a, x2, b)\n",
    "    # else b = x1, x1 = x2, a = a\n",
    "\n",
    "    # d = (b-a)*R\n",
    "\n",
    "    # (1 - R)\n",
    "\n",
    "    # (a, b)\n",
    "    # x1 = a + R(b-a) = a(1 - R) + Rb\n",
    "    # x2 = b - R(b - a) = b(1 - R) + Ra\n",
    "\n",
    "    # f1 > f2; a = x2; x2 = x1; b = b\n",
    "    # length = b - a = b - b(1 - R) - Ra = R(b-a) /// (1-R)(b-a)\n",
    "    # d = R*length = R*R(b-a) = R^2(b-a)\n",
    "\n",
    "\n",
    "    # d1 =  R*(x_u - x_l)\n",
    "    # d2 = d1*R = R^2...\n",
    "    while (ea > es and _iter < max_iter):\n",
    "        d = d*R \n",
    "        if f1 > f2: # Shrink the interval from the left\n",
    "            x_l = x2\n",
    "            x2 = x1\n",
    "            f2 = f1\n",
    "            x1 = x_l + d\n",
    "            f1 = f(x1)\n",
    "        else:\n",
    "            x_u = x1\n",
    "            x1 = x2\n",
    "            f1 = f2\n",
    "            x2 = x_u - d\n",
    "            f2 = f(x2)\n",
    "\n",
    "        \n",
    "        # (a, x2, x1, b)\n",
    "        # (_ , f2, f1, _)\n",
    "\n",
    "        _iter += 1\n",
    "\n",
    "        if f1 > f2:\n",
    "            xopt = x1\n",
    "            fopt = f1\n",
    "        else: \n",
    "            xopt = x2\n",
    "            fopt = f2\n",
    "\n",
    "        # if (xopt == 0): continue\n",
    "\n",
    "        if (xopt != 0):\n",
    "            ea = (1 - R) * abs((x_u - x_l) / xopt) * 100\n",
    "\n",
    "    return (xopt, _iter)\n",
    "        \n",
    "\n",
    "\n",
    "        \n",
    "result = golden_search(sin, 0, pi, 200, 0.0000001)\n",
    "\n",
    "print(f\"The maximum value of the function is: {result[0]} after {result[1]} iterations\")\n",
    "print(f\"f(x) = {sin(result[0])}\")\n",
    "\n",
    "x_values = np.linspace(0,3,200)\n",
    "y_values = [sin(x) for x in x_values]\n",
    "\n",
    "plt.plot(x_values, y_values, \"--b\")\n",
    "plt.grid()\n",
    "plt.show()\n",
    "\n"
   ]
  },
  {
   "cell_type": "markdown",
   "id": "30d98afc",
   "metadata": {},
   "source": [
    "#### PARABOLIC INTERPOLATION"
   ]
  },
  {
   "cell_type": "code",
   "execution_count": null,
   "id": "af11a78b",
   "metadata": {},
   "outputs": [],
   "source": [
    "def parabolic_interpolation(f, x_low, x_intermediate, x_high, max_iter, tol):\n",
    "    def get_optima_estimate(x0, x1, x2, f0, f1, f2):\n",
    "        numerator = f0 * (x1**2-x2**2) + f1 * (x2**2-x0**2) + f2 * (x0**2-x1**2)\n",
    "        denominator = (2 * f0 * (x1 - x2)) + (2 * f1 * (x2 - x0)) + (2 * f2 * (x0 - x1))\n",
    "        return numerator/denominator\n",
    "    calc_tol = sys.float_info.max\n",
    "    x0 = x_low\n",
    "    x1 = x_intermediate\n",
    "    x2 = x_high\n",
    "    _iter = 1\n",
    "    f0 = f(x0)\n",
    "    f1 = f(x1)\n",
    "    f2 = f(x2)\n",
    "    while (calc_tol >= tol and _iter < max_iter):\n",
    "        x3 = get_optima_estimate(x0, x1, x2, f0, f1, f2)\n",
    "        f3 = f(x3)\n",
    "        if x3 > x1:\n",
    "            if f3 > f1:\n",
    "                # Shrink the interval from the upper limit\n",
    "                x2 = x3\n",
    "                f2 = f3\n",
    "            else:\n",
    "                # Shrink the interval from the lower limit\n",
    "                x0 = x1\n",
    "                x1 = x3\n",
    "                f0 = f1\n",
    "                f1 = f3\n",
    "        else:\n",
    "            if f3 > f1:\n",
    "                # Shrink interval from the lower limit\n",
    "                x0 = x3\n",
    "                f0 = f3\n",
    "            else:\n",
    "                # shrink the interval from the upper limit\n",
    "                x2 = x1\n",
    "                f2 = f1\n",
    "                x1 = x3\n",
    "                f1 = f3\n",
    "        _iter += 1\n",
    "        calc_tol = abs(x2-x0) # This is not the absolute error\n",
    "    return(x3, _iter)\n",
    "        \n",
    "sine = lambda x: -sin(x) \n",
    "result = parabolic_interpolation(sine, 0, 0.6*pi, pi, 200, 0.000001)\n",
    "print(f\"The minimum value of the function is: {result[0]} after {result[1]} iterations\")"
   ]
  },
  {
   "cell_type": "markdown",
   "id": "74aa8eeb",
   "metadata": {},
   "source": [
    "### MULTIVARIATE OPTIMIZATION"
   ]
  },
  {
   "cell_type": "markdown",
   "id": "d08de32c",
   "metadata": {},
   "source": [
    "#### STEEPEST DESCENT"
   ]
  },
  {
   "cell_type": "code",
   "execution_count": 92,
   "id": "8c16a18f",
   "metadata": {},
   "outputs": [
    {
     "name": "stdout",
     "output_type": "stream",
     "text": [
      "(1.9999951391843442, 0.9999967394265915)\n"
     ]
    }
   ],
   "source": [
    "import sympy as sym\n",
    "#from sympy import *\n",
    "import scipy.optimize\n",
    "\n",
    "#𝑥^2+2𝑦^2−2𝑥𝑦−2𝑥 \n",
    "\n",
    "# Line search function\n",
    "def f_of_h(h):\n",
    "    return f(x-gx*h,y-gy*h)\n",
    "def f(x,y):\n",
    "    return x**2 + 2*y**2 - 2*x*y - 2*x\n",
    "\n",
    "\n",
    "def grad(x,y):\n",
    "    fprime_x = 2*x - 2* y - 2\n",
    "    fprime_y = 4*y - 2*x\n",
    "    return (fprime_x, fprime_y)\n",
    "\n",
    "def grad_num(f, x, y, offset = 0.0001):\n",
    "    fprime_x = (f(x + offset, y) - f(x - offset, y))/2*offset\n",
    "    fprime_y = (f(x, y + offset) - f(x, y - offset))/2*offset\n",
    "    return (fprime_x, fprime_y)\n",
    "\n",
    "\n",
    "def get_optimal(x,y,f,f_grad, max_iter, tol=0.000001):\n",
    "    (gx, gy) = grad(x, y)\n",
    "\n",
    "    for i in range(max_iter):\n",
    "        # f(h) = f(x-gx*h, y-gy*h)\n",
    "        def f_of_h(h):\n",
    "            return f(x-gx*h,y-gy*h)\n",
    "        h_opt = newton_interpolation(f_of_h, 0, 200, tol)\n",
    "\n",
    "        # print(f\"x = {x}, y={y}, f(x,y)={f(x,y)}\")\n",
    "\n",
    "        sx = gx*h_opt\n",
    "        sy = gy*h_opt\n",
    "        x = x - sx\n",
    "        y = y - sy\n",
    "\n",
    "        (gx, gy) = grad(x, y)\n",
    "\n",
    "        if (sx**2 + sy**2 <= tol):\n",
    "            return (x, y)\n",
    "\n",
    "    return (x, y)\n",
    "\n",
    "result = get_optimal(-1, 1, f, grad, 200, tol=1e-10)\n",
    "print(result)\n",
    "\n",
    "\n",
    "\n",
    "    \n",
    "\n"
   ]
  },
  {
   "cell_type": "code",
   "execution_count": null,
   "id": "26afaa9c",
   "metadata": {},
   "outputs": [],
   "source": []
  },
  {
   "cell_type": "code",
   "execution_count": null,
   "id": "9a6c3f10",
   "metadata": {},
   "outputs": [],
   "source": []
  }
 ],
 "metadata": {
  "kernelspec": {
   "display_name": "Python 3 (ipykernel)",
   "language": "python",
   "name": "python3"
  },
  "language_info": {
   "codemirror_mode": {
    "name": "ipython",
    "version": 3
   },
   "file_extension": ".py",
   "mimetype": "text/x-python",
   "name": "python",
   "nbconvert_exporter": "python",
   "pygments_lexer": "ipython3",
   "version": "3.9.7"
  }
 },
 "nbformat": 4,
 "nbformat_minor": 5
}
