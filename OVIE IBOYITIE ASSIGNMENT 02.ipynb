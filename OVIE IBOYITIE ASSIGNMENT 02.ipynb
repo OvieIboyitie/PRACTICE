{
 "cells": [
  {
   "cell_type": "markdown",
   "id": "3fdede9d",
   "metadata": {},
   "source": [
    "## QUESTION 01"
   ]
  },
  {
   "cell_type": "code",
   "execution_count": 87,
   "id": "6dd61f35",
   "metadata": {},
   "outputs": [
    {
     "name": "stdout",
     "output_type": "stream",
     "text": [
      "My name is Ovie Iboyitie and my mailing address is Federal Univeraity of Petroleum Resources, Effurun\n"
     ]
    }
   ],
   "source": [
    "print(\"My name is Ovie Iboyitie and my mailing address is Federal Univeraity of Petroleum Resources, Effurun\")"
   ]
  },
  {
   "cell_type": "markdown",
   "id": "da8a8e8d",
   "metadata": {},
   "source": [
    "## QUESTION 02"
   ]
  },
  {
   "cell_type": "code",
   "execution_count": 4,
   "id": "5866cb96",
   "metadata": {},
   "outputs": [
    {
     "name": "stdout",
     "output_type": "stream",
     "text": [
      "what is your name: Ovie Iboyitie\n",
      "Hello Ovie Iboyitie\n"
     ]
    }
   ],
   "source": [
    "name = input(\"what is your name: \")\n",
    "print(f'Hello {name}')"
   ]
  },
  {
   "cell_type": "markdown",
   "id": "89172745",
   "metadata": {},
   "source": [
    "## QUESTION 03"
   ]
  },
  {
   "cell_type": "code",
   "execution_count": 9,
   "id": "db1e2372",
   "metadata": {},
   "outputs": [
    {
     "name": "stdout",
     "output_type": "stream",
     "text": [
      "unit (either feets of meter depending on which you are comfortable with): meters\n",
      "whta is the length of the room: 3.6\n",
      "whta is the width of the room: 5.3\n",
      "the area of the room is 19.08 sqaured meters \n"
     ]
    }
   ],
   "source": [
    "unit = input(\"unit (either feets of meter depending on which you are comfortable with): \")\n",
    "length = float(input(\"whta is the length of the room: \"))\n",
    "width = float(input(\"whta is the width of the room: \"))\n",
    "area = length * width\n",
    "print(f\"the area of the room is {area} sqaured {unit} \")"
   ]
  },
  {
   "cell_type": "markdown",
   "id": "7b06e3ff",
   "metadata": {},
   "source": [
    "## QUESTION 04"
   ]
  },
  {
   "cell_type": "code",
   "execution_count": 13,
   "id": "11e198bb",
   "metadata": {},
   "outputs": [
    {
     "name": "stdout",
     "output_type": "stream",
     "text": [
      "what is length of the field (in feet): 10\n",
      "what is width of the field (in feet): 43560\n",
      "the area of the land is 10.0 acres\n"
     ]
    }
   ],
   "source": [
    "length = int(input(\"what is length of the field (in feet): \"))\n",
    "width = int(input(\"what is width of the field (in feet): \"))\n",
    "area_feet = length * width\n",
    "area_acre = area_feet/43560\n",
    "print(f\"the area of the land is {area_acre} acres\")"
   ]
  },
  {
   "cell_type": "markdown",
   "id": "cb13343d",
   "metadata": {},
   "source": [
    "## QUESTION 05"
   ]
  },
  {
   "cell_type": "code",
   "execution_count": 17,
   "id": "c2f708f4",
   "metadata": {},
   "outputs": [
    {
     "name": "stdout",
     "output_type": "stream",
     "text": [
      "how many small containers do you have: 6\n",
      "how many large conatiner do you have: 8\n",
      "Your refund is $ 2.60\n"
     ]
    }
   ],
   "source": [
    "small_container = \"less than or equal to 1\" \n",
    "large_conatiner = \"greater than 1\" \n",
    "number_small_container = float(input(\"how many small containers do you have: \"))\n",
    "number_large_conatiner = float(input(\"how many large conatiner do you have: \"))\n",
    "refund= 0.10 * number_small_container + 0.25 * number_large_conatiner\n",
    "refund2= \"{:.2f}\".format(refund)\n",
    "print(f\"Your refund is $ {refund2}\")"
   ]
  },
  {
   "cell_type": "markdown",
   "id": "f87d4923",
   "metadata": {},
   "source": [
    "## QUESTION 06"
   ]
  },
  {
   "cell_type": "code",
   "execution_count": 20,
   "id": "ac3adb4e",
   "metadata": {},
   "outputs": [
    {
     "name": "stdout",
     "output_type": "stream",
     "text": [
      "input the cost of the meal: 56\n",
      " the tax on your meal is #4.2, the tip #10.08 and the total is #70.28\n"
     ]
    }
   ],
   "source": [
    "cost_of_meal = float(input(\"input the cost of the meal: \"))\n",
    "tax = 0.075 * cost_of_meal # tax is 7.5%\n",
    "tip = 0.18 * cost_of_meal # tip is 18%\n",
    "total = cost_of_meal + tax + tip\n",
    "total2 = \"{:.2f}\".format(total)\n",
    "print(f\" the tax on your meal is #{tax}, the tip #{tip} and the total is #{total2}\")"
   ]
  },
  {
   "cell_type": "markdown",
   "id": "427dadfa",
   "metadata": {},
   "source": [
    "## QUESTION 07"
   ]
  },
  {
   "cell_type": "code",
   "execution_count": 21,
   "id": "c02d9754",
   "metadata": {},
   "outputs": [
    {
     "name": "stdout",
     "output_type": "stream",
     "text": [
      "enter a number: 6\n",
      "the sum of all numbers from 1 to 6 is 21.0 \n"
     ]
    }
   ],
   "source": [
    "n = int(input(\"enter a number: \"))\n",
    "sum= (n * (n+1))/2 #sum is the sum of all the numbers from 1 to n\n",
    "print(f\"the sum of all numbers from 1 to {n} is {sum} \")"
   ]
  },
  {
   "cell_type": "markdown",
   "id": "420b4b8a",
   "metadata": {},
   "source": [
    "## QUESTION  08"
   ]
  },
  {
   "cell_type": "code",
   "execution_count": 22,
   "id": "f916dbc9",
   "metadata": {},
   "outputs": [
    {
     "name": "stdout",
     "output_type": "stream",
     "text": [
      "enter the number of gizmo: 6\n",
      "enter the number of widget7\n",
      "the total weight of gizmo is 672g and total weight of widget is 525g\n"
     ]
    }
   ],
   "source": [
    "gizmo = 112\n",
    "widget = 75\n",
    "num_of_gizmo = int(input(\"enter the number of gizmo: \"))\n",
    "num_of_widget = int(input(\"enter the number of widget\"))\n",
    "total_weight_of_gizmo = gizmo * num_of_gizmo\n",
    "total_weight_of_widget = widget * num_of_widget\n",
    "print(f\"the total weight of gizmo is {total_weight_of_gizmo}g and total weight of widget is {total_weight_of_widget}g\")"
   ]
  },
  {
   "cell_type": "markdown",
   "id": "9372667b",
   "metadata": {},
   "source": [
    "## QUESTION 09"
   ]
  },
  {
   "cell_type": "code",
   "execution_count": 2,
   "id": "54abec8d",
   "metadata": {},
   "outputs": [
    {
     "name": "stdout",
     "output_type": "stream",
     "text": [
      "enter the amount deposited: 3400\n",
      "the amount in yuour savings account after year 1 year, 2 years and 3 years is 3536.00, 3677.44 and 3824.54 \n"
     ]
    }
   ],
   "source": [
    "I = 0.04\n",
    "money_deposited = float(input(\"enter the amount deposited: \"))\n",
    "savings_year1 = 0.04 * money_deposited + money_deposited\n",
    "savings_year2 = 0.04 *savings_year1 + savings_year1\n",
    "savings_year3 = 0.04 * savings_year2 + savings_year2\n",
    "sav1 = \"{:.2f}\".format(savings_year1)\n",
    "sav2 = \"{:.2f}\".format(savings_year2)\n",
    "sav3 = \"{:.2f}\".format(savings_year3)\n",
    "print(f\"the amount in yuour savings account after year 1 year, 2 years and 3 years is {sav1}, {sav2} and {sav3} \")"
   ]
  },
  {
   "cell_type": "markdown",
   "id": "8dbacb54",
   "metadata": {},
   "source": [
    "## QUESTION 10"
   ]
  },
  {
   "cell_type": "code",
   "execution_count": 36,
   "id": "c1e09bdf",
   "metadata": {},
   "outputs": [
    {
     "name": "stdout",
     "output_type": "stream",
     "text": [
      "enter a: 10\n",
      "enter b: 2\n",
      "the sum of a and b is 12 \n",
      "\n",
      "the diffence when b is subtracted from a is 8\n",
      "\n",
      "the product of a and b is 20 \n",
      "\n",
      "the quotient when a is divided by b is 5 \n",
      "\n",
      "the remainder when a is divided by b is 0 \n",
      "\n",
      "the log of a to base 10 1.0 \n",
      "\n",
      "the power of a to b is 100.0 \n",
      "\n"
     ]
    }
   ],
   "source": [
    "import math \n",
    "a = int(input(\"enter a: \"))\n",
    "b = int(input(\"enter b: \"))\n",
    "sum_of_a_b = a + b\n",
    "diff_btw_a_b = a - b\n",
    "prod_of_a_b = a * b\n",
    "quo_a_b = a//b \n",
    "rem_a_b = a%b\n",
    "log_a = (math.log10(a))\n",
    "pow_a_b =pow(a,b)\n",
    "print(f\"the sum of a and b is {sum_of_a_b} \\n\")\n",
    "print(f\"the diffence when b is subtracted from a is {diff_btw_a_b}\\n\")\n",
    "print(f\"the product of a and b is {prod_of_a_b} \\n\")\n",
    "print(f\"the quotient when a is divided by b is {quo_a_b} \\n\")\n",
    "print(f\"the remainder when a is divided by b is {rem_a_b} \\n\")\n",
    "print(f\"the log of a to base 10 {log_a} \\n\")\n",
    "print(f\"the power of a to b is {pow_a_b} \\n\")"
   ]
  },
  {
   "cell_type": "markdown",
   "id": "cd37fc93",
   "metadata": {},
   "source": [
    "## QUESTION 11"
   ]
  },
  {
   "cell_type": "code",
   "execution_count": 42,
   "id": "fb4dc67c",
   "metadata": {},
   "outputs": [
    {
     "name": "stdout",
     "output_type": "stream",
     "text": [
      "enter the fuel efficiency in MPG34\n",
      "the fuel efficiency of 34 GPM is 9604.375706811488 L/100km in canada\n"
     ]
    }
   ],
   "source": [
    "MPG = 282.48163843563203 # 1 mile per gallon is 282.48163843563203 litre per 100 kilometer\n",
    "us_efficiency = int(input(\"enter the fuel efficiency in MPG\"))\n",
    "can_efficiency = us_efficiency * 282.48163843563203\n",
    "print(f\"the fuel efficiency of {us_efficiency} GPM is {can_efficiency} L/100km in canada\")"
   ]
  },
  {
   "cell_type": "markdown",
   "id": "f4763c04",
   "metadata": {},
   "source": [
    "## QUESTION 12"
   ]
  },
  {
   "cell_type": "code",
   "execution_count": 46,
   "id": "0d6c073a",
   "metadata": {},
   "outputs": [
    {
     "name": "stdout",
     "output_type": "stream",
     "text": [
      "enter the latitude of the first point: 34\n",
      "enter the longitude of the first point: 54\n",
      "enter the latitude of the second point: 56\n",
      "enter the longitude of the second point: 43\n",
      "2587.3003106086567\n"
     ]
    }
   ],
   "source": [
    "from math import *\n",
    "t1= float(input(\"enter the latitude of the first point: \"))\n",
    "g1 = float(input(\"enter the longitude of the first point: \"))\n",
    "t2= float(input(\"enter the latitude of the second point: \"))\n",
    "g2 = float(input(\"enter the longitude of the second point: \"))\n",
    "t_1 = math.radians(t1)\n",
    "t_2 = math.radians(t2)\n",
    "g_2 = math.radians(g2)\n",
    "g_1 = math.radians(g1)\n",
    "D = 6371.01 * math.acos(sin(t_1)*sin(t_2)+cos(t_1)*cos(t_2)*cos(g_1-g_2))\n",
    "print(f\"{D}\")"
   ]
  },
  {
   "cell_type": "markdown",
   "id": "9864785b",
   "metadata": {},
   "source": [
    "## QUESTION 14"
   ]
  },
  {
   "cell_type": "code",
   "execution_count": 52,
   "id": "8e9fd67e",
   "metadata": {},
   "outputs": [
    {
     "name": "stdout",
     "output_type": "stream",
     "text": [
      "enter your height in feet: 5\n",
      "enter the remaing height in inches: 11\n",
      "your height is 180.34 cm\n"
     ]
    }
   ],
   "source": [
    "height_ft = int(input(\"enter your height in feet: \"))\n",
    "height_in = int(input(\"enter the remaing height in inches: \"))\n",
    "ft = 12 \n",
    "Inm = 2.54\n",
    "Height_cm = (12 * height_ft + height_in) * 2.54\n",
    "print(f\"your height is {Height_cm} cm\")\n"
   ]
  },
  {
   "cell_type": "markdown",
   "id": "1e0a20a4",
   "metadata": {},
   "source": [
    "## QUESTION 15 "
   ]
  },
  {
   "cell_type": "code",
   "execution_count": 48,
   "id": "10c6d383",
   "metadata": {},
   "outputs": [
    {
     "name": "stdout",
     "output_type": "stream",
     "text": [
      "enter the reading in feet: 6\n",
      "6 feet is equal to 72 inches \n",
      "6 feet is equal to 0.0011363636363636363 yard \n",
      "6 feet is equal to 2.0 miles \n"
     ]
    }
   ],
   "source": [
    "feet = int(input(\"enter the reading in feet: \"))\n",
    "In = 12 # 12 inches make a feet\n",
    "yard = 1/3 # 1/3 yard amkes a feet\n",
    "miles = 1/5280 # 1/5280 miles makes a feet\n",
    "read_In = feet * In \n",
    "read_yard = feet * yard\n",
    "read_miles = feet * miles\n",
    "print(f\"{feet} feet is equal to {read_In} inches \")\n",
    "print(f\"{feet} feet is equal to {read_miles} yard \")\n",
    "print(f\"{feet} feet is equal to {read_yard} miles \")"
   ]
  },
  {
   "cell_type": "markdown",
   "id": "bfc9f7cd",
   "metadata": {},
   "source": [
    "## QUESTION 16"
   ]
  },
  {
   "cell_type": "code",
   "execution_count": 55,
   "id": "ce5af5ad",
   "metadata": {},
   "outputs": [
    {
     "name": "stdout",
     "output_type": "stream",
     "text": [
      "enter the radius: 5\n",
      "the area of a circle of radius 5 is 78.53981633974483  and its volume of a sphere is 523.5987755982989\n"
     ]
    }
   ],
   "source": [
    "import math\n",
    "r = int(input(\"enter the radius: \"))\n",
    "area_circle = math.pi * r * r\n",
    "volume_sphere= 4/3 * math.pi * pow(r,3)\n",
    "print(f\"the area of a circle of radius {r} is {area_circle}  and its volume of a sphere is {volume_sphere}\")"
   ]
  },
  {
   "cell_type": "markdown",
   "id": "841c5a74",
   "metadata": {},
   "source": [
    "## QUESTION 17"
   ]
  },
  {
   "cell_type": "code",
   "execution_count": 61,
   "id": "1546c3c1",
   "metadata": {},
   "outputs": [
    {
     "name": "stdout",
     "output_type": "stream",
     "text": [
      "enter the mass of the water in grams: 1000\n",
      "enter the temperature change: 60\n",
      "the qamtity of heat required to raise the temperature of water by 60 of 1000g is 251160.0 Joules\n",
      "the cost of heating 1000g of water by 60 degree is 0.6209233333333334 cents \n"
     ]
    }
   ],
   "source": [
    "mass = int(input(\"enter the mass of the water in grams: \"))\n",
    "temperature_change = int(input(\"enter the temperature change: \"))\n",
    "c = 4.186\n",
    "q = mass * c * temperature_change\n",
    "qw = q/(3.6 * pow(10,6))\n",
    "cost = (8.9 * qw)\n",
    "print(f\"the qamtity of heat required to raise the temperature of water by {temperature_change} of {mass}g is {q} Joules\")\n",
    "print(f\"the cost of heating {mass}g of water by {temperature_change} degree is {cost} cents \")"
   ]
  },
  {
   "cell_type": "markdown",
   "id": "3922dfb6",
   "metadata": {},
   "source": [
    "## QUESTION 18"
   ]
  },
  {
   "cell_type": "code",
   "execution_count": 66,
   "id": "8d9766a0",
   "metadata": {},
   "outputs": [
    {
     "name": "stdout",
     "output_type": "stream",
     "text": [
      "enter the height of the cylinder: 45\n",
      "enter the radius of the cylindr: 6\n",
      "the volume of the cylinder is 5089.4 \n"
     ]
    }
   ],
   "source": [
    "import math \n",
    "h = float(input(\"enter the height of the cylinder: \"))\n",
    "r = float(input(\"enter the radius of the cylindr: \"))\n",
    "v= math.pi * h * pow(r,2)\n",
    "vol =\"{:.1f}\".format(v)\n",
    "print(f\"the volume of the cylinder is {vol} \")"
   ]
  },
  {
   "cell_type": "markdown",
   "id": "c7e3174f",
   "metadata": {},
   "source": [
    "## QUESTION 19"
   ]
  },
  {
   "cell_type": "code",
   "execution_count": 70,
   "id": "7da3663f",
   "metadata": {},
   "outputs": [
    {
     "name": "stdout",
     "output_type": "stream",
     "text": [
      "enter the height: 23\n",
      "the velocity is 21.23205124334434 m/s\n"
     ]
    }
   ],
   "source": [
    "import math\n",
    "d =float(input(\"enter the height: \"))\n",
    "a = 9.8\n",
    "vf = math.sqrt(2 * a *d)\n",
    "print(F\"the velocity is {vf} m/s\")"
   ]
  },
  {
   "cell_type": "markdown",
   "id": "4ffee415",
   "metadata": {},
   "source": [
    "## QUESTION 21"
   ]
  },
  {
   "cell_type": "code",
   "execution_count": 72,
   "id": "06840e0e",
   "metadata": {},
   "outputs": [
    {
     "name": "stdout",
     "output_type": "stream",
     "text": [
      "enter the base of the triangle: 6\n",
      "entger the height of the triangle: 5\n",
      "the rea of a triangle with base 6 units and height 5 units is 15.0 squared units \n"
     ]
    }
   ],
   "source": [
    "b = int(input(\"enter the base of the triangle: \"))\n",
    "h = int(input(\"entger the height of the triangle: \"))\n",
    "a = 0.5 *b*h\n",
    "print (f\"the rea of a triangle with base {b} units and height {h} units is {a} squared units \")"
   ]
  },
  {
   "cell_type": "markdown",
   "id": "aee46652",
   "metadata": {},
   "source": [
    "## QUESTION 22"
   ]
  },
  {
   "cell_type": "code",
   "execution_count": 82,
   "id": "83d2dd6f",
   "metadata": {},
   "outputs": [
    {
     "name": "stdout",
     "output_type": "stream",
     "text": [
      "the lenth of a side of the triangle: 4\n",
      "the lenth of a side of the triangle: 4\n",
      "the lenth of a side of the triangle: 4\n",
      "the area of a triangle 4.0,4.0 and 4.0 is 6.928203230275509 squared units\n"
     ]
    }
   ],
   "source": [
    "import math\n",
    "s1 = float(input('the lenth of a side of the triangle: '))\n",
    "s2 = float(input('the lenth of a side of the triangle: '))\n",
    "s3 = float(input('the lenth of a side of the triangle: '))\n",
    "s = (s1+s2+s3)/2\n",
    "area_triangle = math.sqrt(s*(s-s1)*(s-s2)*(s-s3))\n",
    "print(f\"the area of a triangle {s1},{s2} and {s3} is {area_triangle} squared units\")"
   ]
  },
  {
   "cell_type": "markdown",
   "id": "9e214e89",
   "metadata": {},
   "source": [
    "## QUESTION 23 "
   ]
  },
  {
   "cell_type": "code",
   "execution_count": 83,
   "id": "2827a6df",
   "metadata": {},
   "outputs": [
    {
     "name": "stdout",
     "output_type": "stream",
     "text": [
      "enter the length of the side of the polygon: 4\n",
      "enter the number of sides of the polygon: 4\n",
      "the area of a polygon with 4 sides and lenght of 4.0 units is 16.000000000000004 squared units \n"
     ]
    }
   ],
   "source": [
    "import math\n",
    "s = float(input(\"enter the length of the side of the polygon: \"))\n",
    "n = int(input(\"enter the number of sides of the polygon: \"))\n",
    "d2 = 4* tan(math.pi/n)\n",
    "area_polygon = (n * pow(s,2))/d2\n",
    "print(f\"the area of a polygon with {n} sides and lenght of {s} units is {area_polygon} squared units \")"
   ]
  },
  {
   "cell_type": "markdown",
   "id": "8958046c",
   "metadata": {},
   "source": [
    "## QUESTION 24"
   ]
  },
  {
   "cell_type": "code",
   "execution_count": 86,
   "id": "bde46f77",
   "metadata": {},
   "outputs": [
    {
     "name": "stdout",
     "output_type": "stream",
     "text": [
      "enter the number of days: 3\n",
      "enter the number of hours: 13\n",
      "enter the number of minutes: 56\n",
      "enter the number of seconds: 43\n",
      "the total times in sconds is 309403 seconds\n"
     ]
    }
   ],
   "source": [
    "days = int(input(\"enter the number of days: \"))\n",
    "hours = int(input(\"enter the number of hours: \"))\n",
    "minutes = int(input(\"enter the number of minutes: \"))\n",
    "seconds = int(input(\"enter the number of seconds: \"))\n",
    "day_s= days * 24 * 60 * 60\n",
    "hours_s = hours * 60 * 60\n",
    "minutes_s = minutes* 60\n",
    "time_s = day_s + hours_s + minutes_s + seconds\n",
    "print(f\"the total times in sconds is {time_s} seconds\")"
   ]
  },
  {
   "cell_type": "code",
   "execution_count": null,
   "id": "1ea01825",
   "metadata": {},
   "outputs": [],
   "source": []
  }
 ],
 "metadata": {
  "kernelspec": {
   "display_name": "Python 3 (ipykernel)",
   "language": "python",
   "name": "python3"
  },
  "language_info": {
   "codemirror_mode": {
    "name": "ipython",
    "version": 3
   },
   "file_extension": ".py",
   "mimetype": "text/x-python",
   "name": "python",
   "nbconvert_exporter": "python",
   "pygments_lexer": "ipython3",
   "version": "3.9.7"
  }
 },
 "nbformat": 4,
 "nbformat_minor": 5
}
