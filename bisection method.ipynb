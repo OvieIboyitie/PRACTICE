{
 "cells": [
  {
   "cell_type": "code",
   "execution_count": 1,
   "id": "4179934e",
   "metadata": {},
   "outputs": [
    {
     "name": "stdout",
     "output_type": "stream",
     "text": [
      "The root of the sine function between 0.2, 5 = 3.141592653589793\n"
     ]
    }
   ],
   "source": [
    "from math import  sin\n",
    "\n",
    "\n",
    "def bisection(func, x_lower, x_upper, tol, iter_max = 200):\n",
    "    # In this method the estimate of the root is obtained \n",
    "    # from bisecting the interval\n",
    "    \n",
    "    iter = 0\n",
    "    ea = 100000\n",
    "    f_x_lower = func(x_lower)\n",
    "    f_x_upper = func(x_upper)\n",
    "\n",
    "    if (f_x_lower * f_x_upper > 0):\n",
    "        print(\"The given interval does not bracket the root or the interval has multiple roots\")\n",
    "        return\n",
    "\n",
    "    while(ea > tol or iter < iter_max): \n",
    "\n",
    "        x_root = (x_lower + x_upper)/2.0\n",
    "        # 1st interval x_lower to x_root, (x_lower, x_root)\n",
    "        # 2nd interval x_root to x_upper, (x_root, x_upper)\n",
    "\n",
    "        # A root is in an interval (a, b) if and only if \n",
    "        # f(a)f(b)<=0\n",
    "\n",
    "        f_x_root = func(x_root)\n",
    "\n",
    "        if (f_x_lower * f_x_root <= 0): \n",
    "            x_upper = x_root\n",
    "            f_x_upper = f_x_root\n",
    "            \n",
    "        else:\n",
    "            x_lower = x_root\n",
    "            f_x_lower = f_x_root\n",
    "        \n",
    "        ea =  abs((x_upper - x_lower)/( x_upper + x_lower)) * 100 # Relative error\n",
    "        iter += 1\n",
    "        # ea = abs((x_root_new - x_root_old)/x_root_new) * 100\n",
    "    \n",
    "    return (x_lower + x_upper)/2\n",
    "\n",
    "\n",
    "print(\"The root of the sine function between 0.2, 5 =\", bisection(sin, 0.2, 5, 0.01))\n",
    "\n",
    "\n"
   ]
  },
  {
   "cell_type": "code",
   "execution_count": 3,
   "id": "f441287f",
   "metadata": {},
   "outputs": [
    {
     "name": "stdout",
     "output_type": "stream",
     "text": [
      "sine(2.4) =  0.5514266595097648\n",
      "sin(2.4) =  0.5514266812416906\n"
     ]
    },
    {
     "data": {
      "image/png": "[encoded data removed]",
      "text/plain": [
       "<Figure size 432x288 with 1 Axes>"
      ]
     },
     "metadata": {
      "needs_background": "light"
     },
     "output_type": "display_data"
    }
   ],
   "source": [
    "# Radius of convergence for the sine function -2pi <=x <= 2 pi\n",
    "\n",
    "# tol = 0.0000001\n",
    "# prev_sum = 0 & current_sum = x  -- iteration 1 abs(currents_sum - prev_sum)\n",
    "# prev_sum = x & current_sum = x - x^3/3! -- iteration 2\n",
    "# prev_sum = x - x^3/3! & current_sum = x - x^3/3! + x^5/5! --iteration 3\n",
    "# prev_sum = x - x^3/3! + x^5/5! & current_sum = x - x^3/3! + x^5/5! - x^7/7! \n",
    "# sin (x) = x - x^3/3! + x^5/5! - + ...\n",
    "# \n",
    "# (-1)^n\n",
    "\n",
    "from math import sin, pi\n",
    "\n",
    "\n",
    "\n",
    "# How do we convert from degrees to radians\n",
    "# pi radians = 180 degs\n",
    "\n",
    "# 100degs => (100 x pi)/180 radians\n",
    "\n",
    "# This method computes the factorial of a number recursively\n",
    "def fact(n): \n",
    "    if (n == 0 or n == 1):\n",
    "        return 1\n",
    "    return n*fact(n-1)   # 4 * 3 * 2 * 1 = 4! \n",
    "\n",
    "tol = 1e-5\n",
    "max_iter = 100\n",
    "\n",
    "def sine(x):\n",
    "    x = x % (2*pi)\n",
    "    prev_sum = 0.0\n",
    "    current_sum = x\n",
    "    n = 1\n",
    "    \n",
    "    while ((abs(current_sum - prev_sum) >= tol)):\n",
    "        prev_sum = current_sum\n",
    "        current_sum += (-1)**n * (x** (2*n + 1))/fact(2*n + 1)\n",
    "        n += 1\n",
    "\n",
    "        if (n > max_iter):\n",
    "            break\n",
    "\n",
    "    return current_sum\n",
    "\n",
    "\n",
    "print(\"sine(2.4) = \", sine(32))\n",
    "print(\"sin(2.4) = \", sin(32))\n",
    "\n",
    "\n",
    "import matplotlib.pyplot as plt\n",
    "import numpy as np\n",
    "x_values = np.linspace(0,30,200)\n",
    "y_values = [sine(x_value) for x_value in x_values]\n",
    "plt.plot(x_values, y_values)\n",
    "plt.grid()\n",
    "plt.show()"
   ]
  },
  {
   "cell_type": "code",
   "execution_count": 8,
   "id": "3705f5c5",
   "metadata": {},
   "outputs": [
    {
     "name": "stdout",
     "output_type": "stream",
     "text": [
      " the root of (3, 4) is 3.141592653589793\n",
      " the root of (6, 6.8) is 6.283185307179586\n",
      " the root of (9, 10) is 9.42477796076938\n"
     ]
    }
   ],
   "source": [
    "from math import  sin\n",
    "\n",
    "\n",
    "def bisection(func, x_lower, x_upper, tol, iter_max = 200):\n",
    "    # In this method the estimate of the root is obtained \n",
    "    # from bisecting the interval\n",
    "    \n",
    "    iter = 0\n",
    "    ea = 100000\n",
    "    f_x_lower = func(x_lower)\n",
    "    f_x_upper = func(x_upper)\n",
    "\n",
    "    if (f_x_lower * f_x_upper > 0):\n",
    "        print(\"The given interval does not bracket the root or the interval has multiple roots\")\n",
    "        return\n",
    "\n",
    "    while(ea > tol or iter < iter_max): \n",
    "\n",
    "        x_root = (x_lower + x_upper)/2.0\n",
    "        # 1st interval x_lower to x_root, (x_lower, x_root)\n",
    "        # 2nd interval x_root to x_upper, (x_root, x_upper)\n",
    "\n",
    "        # A root is in an interval (a, b) if and only if \n",
    "        # f(a)f(b)<=0\n",
    "\n",
    "        f_x_root = func(x_root)\n",
    "\n",
    "        if (f_x_lower * f_x_root <= 0): \n",
    "            x_upper = x_root\n",
    "            f_x_upper = f_x_root\n",
    "            \n",
    "        else:\n",
    "            x_lower = x_root\n",
    "            f_x_lower = f_x_root\n",
    "        \n",
    "        ea =  abs((x_upper - x_lower)/( x_upper + x_lower)) * 100 # Relative error\n",
    "        iter += 1\n",
    "        # ea = abs((x_root_new - x_root_old)/x_root_new) * 100\n",
    "    \n",
    "    return (x_lower + x_upper)/2\n",
    "\n",
    "limits = [(3,4), (6, 6.8), (9, 10)]\n",
    "for limit in limits:\n",
    "    roots = bisection(sin, limit[1], limit[0], tol, iter_max = 200)\n",
    "    print(f\" the root of {limit} is {roots}\")\n"
   ]
  },
  {
   "cell_type": "code",
   "execution_count": null,
   "id": "a433d396",
   "metadata": {},
   "outputs": [],
   "source": []
  }
 ],
 "metadata": {
  "kernelspec": {
   "display_name": "Python 3 (ipykernel)",
   "language": "python",
   "name": "python3"
  },
  "language_info": {
   "codemirror_mode": {
    "name": "ipython",
    "version": 3
   },
   "file_extension": ".py",
   "mimetype": "text/x-python",
   "name": "python",
   "nbconvert_exporter": "python",
   "pygments_lexer": "ipython3",
   "version": "3.9.7"
  }
 },
 "nbformat": 4,
 "nbformat_minor": 5
}
