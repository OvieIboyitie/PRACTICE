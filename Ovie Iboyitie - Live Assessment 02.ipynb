{
 "cells": [
  {
   "cell_type": "markdown",
   "metadata": {
    "id": "l0UP2uR4C2k3"
   },
   "source": [
    "1. Use the Newton-Raphson method to determine a root of $f(x)=x^5-16.05x^4+88.75x^3-192.0375x^2+116.35x+31.6875$ using an initial guess of $x$=0.5825 and $ϵ_s$=0.01%."
   ]
  },
  {
   "cell_type": "code",
   "execution_count": null,
   "metadata": {
    "id": "qIdewB1TC09G"
   },
   "outputs": [],
   "source": [
    "# Provide solution here"
   ]
  },
  {
   "cell_type": "code",
   "execution_count": 30,
   "metadata": {
    "id": "R5yKjvL7aLvE"
   },
   "outputs": [
    {
     "data": {
      "text/plain": [
       "6.499997314915187"
      ]
     },
     "execution_count": 30,
     "metadata": {},
     "output_type": "execute_result"
    }
   ],
   "source": [
    "def f1(x):\n",
    "    return (x**5 - 16.05 * x**4 + 88.75 * x**3 - 192.0375 * x**2 + 116.35 * x + 31.6875)\n",
    "\n",
    "centered  = lambda f,x,h : (f(x+h) - f(x-h))/(2*h) # to obtain the first differential of a function\n",
    "\n",
    "def newton_ralphson(f,x,tol, max_iter):\n",
    "    _iter = 0\n",
    "    x_new = x\n",
    "    while _iter < max_iter:\n",
    "        x_old = x_new\n",
    "        numerator = f(x_old)\n",
    "        denominator = centered(f,x_old,0.0000000000001)\n",
    "        x_new = x_old - numerator/denominator\n",
    "        _iter +=1\n",
    "        if abs(x_old - x_new)/x_old <= tol:\n",
    "            return x_new\n",
    "    return x_new\n",
    "newton_ralphson(f1, 0.5825, 0.0001, 200)\n"
   ]
  },
  {
   "cell_type": "markdown",
   "metadata": {
    "id": "3N4feO-PDROk"
   },
   "source": [
    "2. Find the minimum value of $f(x,y)=(x-3)^2+(y-2)^2$ starting at $x$=1 and $y$=1 using the steepest descent method with a stopping criterion of $ϵ_s$=1%. Employ Newton’s method to find the optimal step size in the gradient search direction."
   ]
  },
  {
   "cell_type": "code",
   "execution_count": null,
   "metadata": {
    "id": "0ElaIEy1DeG8"
   },
   "outputs": [],
   "source": [
    "# Provide solution here"
   ]
  },
  {
   "cell_type": "code",
   "execution_count": 23,
   "metadata": {
    "id": "TwY9hl8KaNEo"
   },
   "outputs": [
    {
     "name": "stdout",
     "output_type": "stream",
     "text": [
      "(3.0, 2.0)\n"
     ]
    }
   ],
   "source": [
    "import sys\n",
    "import scipy.optimize\n",
    "\n",
    "# DEFINING THE NEWTON INTERPLATION METHOD\n",
    "def newton_interpolation(f, x,max_iter, tol):\n",
    "    calc_tol = 10000000\n",
    "    x_opt = x\n",
    "    _iter = 1\n",
    "    h = 0.001\n",
    "    #f0 = f(x0)\n",
    "    backWard  = lambda f,x,h : (f(x) - f(x-h))/h\n",
    "    forWard   = lambda f,x,h : (f(x+h) - f(x))/h\n",
    "    centered  = lambda f,x,h : (f(x+h) - f(x-h))/(2*h)\n",
    "    sec_order = lambda f,x,h : (forWard(f,x,h)-backWard(f,x,h))/h\n",
    "    try:\n",
    "        first_differential = centered(f,x_opt,h)\n",
    "        second_differential = sec_order(f,x_opt,h)\n",
    "        x_opt = x_opt - (first_differential/second_differential)\n",
    "    except ZeroDivisionError:\n",
    "        return x_opt\n",
    "    while (calc_tol >= tol and _iter < max_iter):\n",
    "        first_differential = centered(f,x_opt,h)\n",
    "        second_differential = sec_order(f,x_opt,h)\n",
    "        x_old = x_opt\n",
    "        try:\n",
    "            x_opt = x_opt - (first_differential/second_differential)\n",
    "        except ZeroDivisionError:\n",
    "            return x_opt\n",
    "        _iter += 1\n",
    "        calc_tol = abs(x_old-x_opt) # This is not the absolute error\n",
    "        if _iter == max_iter:\n",
    "            break\n",
    "    return x_opt\n",
    "\n",
    "\n",
    "\n",
    "# Line search function\n",
    "def f_of_h(h):\n",
    "    return f(x-gx*h,y-gy*h)\n",
    "#f(x,y)=(x-3)^2+(y-2)^2\n",
    "def f(x,y):\n",
    "    return (x-3)**2 + (y-2)**2\n",
    "\n",
    "def grad(x,y):\n",
    "    fprime_x = 2 * (x-3)\n",
    "    fprime_y = 2 * (y-2)\n",
    "    return (fprime_x, fprime_y)\n",
    "\n",
    "def get_optimal(x,y,f,f_grad, max_iter, tol=0.000001):\n",
    "    (gx, gy) = grad(x, y)\n",
    "    for i in range(max_iter):\n",
    "        def f_of_h(h):\n",
    "            return f(x-gx*h,y-gy*h)\n",
    "        h_opt = newton_interpolation(f_of_h, 0, 200, tol)\n",
    "        sx = gx*h_opt\n",
    "        sy = gy*h_opt\n",
    "        x = x - sx\n",
    "        y = y - sy\n",
    "\n",
    "        (gx, gy) = grad(x, y)\n",
    "\n",
    "        if (sx**2 + sy**2 <= tol):\n",
    "            return (x, y)\n",
    "\n",
    "    return (x, y)\n",
    "\n",
    "result = get_optimal(1, 1, f, grad, 200, tol=0.01)\n",
    "print(result)"
   ]
  },
  {
   "cell_type": "markdown",
   "metadata": {
    "id": "sVXHda8tDihh"
   },
   "source": [
    "3. Evaluate the following integral $∫_{1}^{2}(x+\\frac{2}{x})^2 dx$ using the composite trapezoidal rule, with n = 10."
   ]
  },
  {
   "cell_type": "code",
   "execution_count": null,
   "metadata": {
    "id": "i_T43YLwDiIP"
   },
   "outputs": [],
   "source": [
    "# Provide solution here"
   ]
  },
  {
   "cell_type": "code",
   "execution_count": 4,
   "metadata": {
    "id": "S9PlgJ1jaOcn"
   },
   "outputs": [
    {
     "name": "stdout",
     "output_type": "stream",
     "text": [
      "h is 0.1\n"
     ]
    },
    {
     "data": {
      "text/plain": [
       "8.340820509859304"
      ]
     },
     "execution_count": 4,
     "metadata": {},
     "output_type": "execute_result"
    }
   ],
   "source": [
    "# defining the trapezoidal rule\n",
    "import numpy as np\n",
    "def trapezoidal(a,b,f,h=None,n=None): #a and b are the boundaries, f is the function, h is the interval and n is the number of sub intervals\n",
    "    if n != None:\n",
    "        h = (b-a)/n\n",
    "        print(\"h is\", h)\n",
    "        x_values = np.linspace(a,b,n+1)\n",
    "    elif h != None:\n",
    "        x_values = np.arange(a,b+h,h)\n",
    "    sum_ = f(x_values[0]) + f(x_values[-1]) # summing the first and last values of the function\n",
    "    for i in x_values[1:-1]:\n",
    "        sum_ += 2*f(i) # multiplying the other function values by 2 and summing them up\n",
    "    integral = h/2 * sum_ #multiplying the sum by h/2\n",
    "    return integral\n",
    "\n",
    "# defining the function\n",
    "def func(x):\n",
    "    return (x + 2/x)**2\n",
    "trapezoidal(1,2,func,n=10)"
   ]
  },
  {
   "cell_type": "markdown",
   "metadata": {
    "id": "p0wAXpg1EYYx"
   },
   "source": [
    "4. Solve the following initial-value problem \n",
    "$\\frac{dy}{dx}=-200000y + 200000e^{-x} -e^{-x}$\n",
    "$y(0)=0$\n",
    "\n",
    "Use the implicit Euler to obtain a solution from t= 0 to 2 using a step size of 0.1.\n"
   ]
  },
  {
   "cell_type": "code",
   "execution_count": null,
   "metadata": {
    "id": "0B-I_M2xEVVc"
   },
   "outputs": [],
   "source": [
    "# Provide solution here"
   ]
  },
  {
   "cell_type": "code",
   "execution_count": 22,
   "metadata": {
    "id": "ajqhNHvRaPNf"
   },
   "outputs": [
    {
     "name": "stdout",
     "output_type": "stream",
     "text": [
      "(0, 0)\n",
      "(0.1, 19999.9)\n",
      "(0.2, -399959903.4421231)\n",
      "(0.30000000000000004, 7998798125313.555)\n",
      "(0.4, -1.5996796370813098e+17)\n",
      "(0.5, 3.1991993061989113e+21)\n",
      "(0.6, -6.398078692467202e+25)\n",
      "(0.7, 1.2795517577065158e+30)\n",
      "(0.7999999999999999, -2.558975560237261e+34)\n",
      "(0.8999999999999999, 5.117695222918498e+38)\n",
      "(0.9999999999999999, -1.0234878676314704e+43)\n",
      "(1.0999999999999999, 2.0468733864761777e+47)\n",
      "(1.2, -4.0935420856137086e+51)\n",
      "(1.3, 8.186674817018855e+55)\n",
      "(1.4000000000000001, -1.637253096655601e+60)\n",
      "(1.5000000000000002, 3.2743424680015363e+64)\n",
      "(1.6000000000000003, -6.548357501756273e+68)\n",
      "(1.7000000000000004, 1.3096060167762372e+73)\n",
      "(1.8000000000000005, -2.6190810729507973e+77)\n",
      "(1.9000000000000006, 5.2379002377943e+81)\n",
      "(2.0000000000000004, -1.0475276685564822e+86)\n"
     ]
    }
   ],
   "source": [
    "import math\n",
    "import matplotlib.pyplot as plt\n",
    "# defining the euler method\n",
    "def Euler_Method(x,x2,y,h,func):\n",
    "    yN = y + h * func(x,y)\n",
    "    xlist = []\n",
    "    ynumerical = []\n",
    "    while x <= x2+h :\n",
    "        ynumerical.append(y)\n",
    "        y_prime = func(x,y)\n",
    "        yN = y + h * y_prime\n",
    "        xlist.append(x)\n",
    "        x = x + h\n",
    "        y = yN\n",
    "    return xlist, ynumerical\n",
    "\n",
    "# defining the function\n",
    "\n",
    "#-200000y + 200000e^{-x} -e^{-x}\n",
    "def f4(x,y):\n",
    "    return (-200000*y + 200000*math.exp(-x) - math.exp(-x))\n",
    "A =Euler_Method(0,2,0, 0.1, f4)\n",
    "for i in range(len(A[0])):\n",
    "    print((A[0][i], A[1][i]))"
   ]
  },
  {
   "cell_type": "markdown",
   "metadata": {
    "id": "Q9OOf6cPE3Se"
   },
   "source": [
    "5. Find the gradient vector and Hessian matrix for each of the following functions:\n",
    "- $f(x,y)=2xy^2+3e^xy$\n",
    "- $f(x,y,z)=x^2+y^2+2z^2$\n",
    "- $f(x,y)=ln⁡(x^2+2xy+3y)$\n"
   ]
  },
  {
   "cell_type": "code",
   "execution_count": null,
   "metadata": {
    "id": "XROryKypE-nw"
   },
   "outputs": [],
   "source": [
    "# Provide solution here"
   ]
  },
  {
   "cell_type": "code",
   "execution_count": 21,
   "metadata": {
    "id": "IKSO2GoKaP63"
   },
   "outputs": [],
   "source": [
    "def f_prime_x_x(f,x,y,h):\n",
    "    return (f(x+h,y)-2*f(x,y)+f(x-h,y))/h**2\n",
    "def f_prime_y_y(f,x,y,h):\n",
    "    return (f(x,y+h)-2*f(x,y)+f(x,y+h))/h**2\n",
    "def f_prime_x_y(f,x,y,h):\n",
    "    return (f(x+h,y+h)-f(x+h,y-h)-f(x-h,y+h)+f(x,y+h))/h**2\n"
   ]
  },
  {
   "cell_type": "markdown",
   "metadata": {},
   "source": [
    "- $f(x,y)=2xy^2+3e^xy$"
   ]
  },
  {
   "cell_type": "code",
   "execution_count": null,
   "metadata": {},
   "outputs": [],
   "source": [
    "def grad(x,y):\n",
    "    f_prime_x = 2*y**2 + 3*math.exp(x)*y\n",
    "    f_prime_y = 4*x*y + 3*math.exp(x)*y\n",
    "    return (fprime_x, fprime_y)\n",
    "gradient_vector = np.array[[f_prime_x],[fprime_y]]\n",
    "def f51(x,y):\n",
    "    return 2*x*y**2 + 3*np.exp(x)*y\n",
    "A = np.array[[0,0],[0,0]]\n",
    "A[0][0] = f_prime_x_x(f51,x,y,h)\n",
    "A[0][1] = f_prime_x_y(f51,x,y,h)\n",
    "A[1][0] = f_prime_x_y(f51,x,y,h)\n",
    "A[1][1] = f_prime_y_y(f51,x,y,h)\n",
    "\n",
    "Hessian = np.linalg.det(A)"
   ]
  },
  {
   "cell_type": "markdown",
   "metadata": {},
   "source": [
    "- $f(x,y,z)=x^2+y^2+2z^2$"
   ]
  },
  {
   "cell_type": "code",
   "execution_count": null,
   "metadata": {},
   "outputs": [],
   "source": [
    "def grad(x,y,z):\n",
    "    f_prime_x = 2*x\n",
    "    f_prime_y = 2*y\n",
    "    f_prime_z = 4 * z\n",
    "    return (fprime_x, fprime_y, f_prime_z)\n",
    "gradient_vector = np.array[[f_prime_x],[fprime_y],[fprime_z]]\n",
    "def f52(x,y,z):\n",
    "    return x**2 + y**2 + 2*z**2"
   ]
  },
  {
   "cell_type": "markdown",
   "metadata": {},
   "source": [
    "- $f(x,y)=ln⁡(x^2+2xy+3y)$"
   ]
  },
  {
   "cell_type": "code",
   "execution_count": null,
   "metadata": {},
   "outputs": [],
   "source": [
    "def grad(x,y):\n",
    "    f_prime_x = (2*x + 2*y)/(x**2 + 2*x*y + 3*y)\n",
    "    f_prime_y = (2y+3)/(x**2 + 2*x*y + 3*y)\n",
    "    return (fprime_x, fprime_y)\n",
    "gradient_vector = np.array[[f_prime_x],[fprime_y]]\n",
    "def f53(x,y):\n",
    "    return np.log(x**2 + 2*x*y + 3*y)\n",
    "A = np.array[[0,0],[0,0]]\n",
    "A[0][0] = f_prime_x_x(f53,x,y,h)\n",
    "A[0][1] = f_prime_x_y(f53,x,y,h)\n",
    "A[1][0] = f_prime_x_y(f53,x,y,h)\n",
    "A[1][1] = f_prime_y_y(f53,x,y,h)\n",
    "\n",
    "Hessian = np.linalg.det(A)"
   ]
  },
  {
   "cell_type": "markdown",
   "metadata": {
    "id": "_6MusEGbFBcQ"
   },
   "source": [
    "6\tWrite an implementation of the Newton’s method for finding the minimum point of a multidimensional function."
   ]
  },
  {
   "cell_type": "code",
   "execution_count": null,
   "metadata": {
    "id": "rWebZBvhFEj5"
   },
   "outputs": [],
   "source": [
    "# Provide solution here"
   ]
  },
  {
   "cell_type": "code",
   "execution_count": null,
   "metadata": {
    "id": "8UnmtN-caQxx"
   },
   "outputs": [],
   "source": []
  },
  {
   "cell_type": "markdown",
   "metadata": {
    "id": "bKp3vXf5FFT4"
   },
   "source": [
    "7. Compute the first-order central difference approximations of O(h^4) for each of the following functions at the specified location and for the specified step size:\n",
    "\n",
    "- $y=x^3+4x-15  \\hspace{2em}  at \\hspace{.4em} x=0,h=0.25$\n",
    "- $y=x^2cos(⁡x) \\hspace{2em}  at \\hspace{.4em}                        x=0.4,h=0.1 $\n",
    "- $y=sin⁡(\\frac{0.5√x}{x})  \\hspace{2em}  at \\hspace{.4em}           x=1,h=0.2$\n",
    "- $y=tan⁡(\\frac{x}{3})   \\hspace{2em}  at \\hspace{.4em}               x=3,h=0.5$\n"
   ]
  },
  {
   "cell_type": "code",
   "execution_count": null,
   "metadata": {
    "id": "HZII4guDaSMI"
   },
   "outputs": [],
   "source": [
    "# Provide solution here"
   ]
  },
  {
   "cell_type": "code",
   "execution_count": 12,
   "metadata": {},
   "outputs": [],
   "source": [
    "def centered_difference(f,x,h):\n",
    "        diff = (f(x+h) - f(x-h))/(2*h)\n",
    "        return diff"
   ]
  },
  {
   "cell_type": "markdown",
   "metadata": {
    "id": "_v48LmXMaWSH"
   },
   "source": [
    "- $y=x^3+4x-15  \\hspace{2em}  at \\hspace{.4em} x=0,h=0.25$"
   ]
  },
  {
   "cell_type": "code",
   "execution_count": 13,
   "metadata": {
    "id": "Vg3MAiz3aSEZ"
   },
   "outputs": [
    {
     "data": {
      "text/plain": [
       "4.0625"
      ]
     },
     "execution_count": 13,
     "metadata": {},
     "output_type": "execute_result"
    }
   ],
   "source": [
    "def f71(x):\n",
    "    return x**3 + 4*x - 15\n",
    "\n",
    "centered_difference(f71,0,0.25)"
   ]
  },
  {
   "cell_type": "markdown",
   "metadata": {},
   "source": [
    "- $y=x^2cos(⁡x) \\hspace{2em}  at \\hspace{.4em}                        x=0.4,h=0.1 $"
   ]
  },
  {
   "cell_type": "code",
   "execution_count": 14,
   "metadata": {},
   "outputs": [
    {
     "data": {
      "text/plain": [
       "0.6670767822564431"
      ]
     },
     "execution_count": 14,
     "metadata": {},
     "output_type": "execute_result"
    }
   ],
   "source": [
    "def f72(x):\n",
    "    return (x**2 * np.cos(x))\n",
    "centered_difference(f72,0.4,0.1)"
   ]
  },
  {
   "cell_type": "markdown",
   "metadata": {},
   "source": [
    "- $y=sin⁡(\\frac{0.5√x}{x})  \\hspace{2em}  at \\hspace{.4em}           x=1,h=0.2$"
   ]
  },
  {
   "cell_type": "code",
   "execution_count": 15,
   "metadata": {},
   "outputs": [
    {
     "data": {
      "text/plain": [
       "-0.22400450595458324"
      ]
     },
     "execution_count": 15,
     "metadata": {},
     "output_type": "execute_result"
    }
   ],
   "source": [
    "def f73(x):\n",
    "    return (np.sin((0.5*np.sqrt(x))/x))\n",
    "centered_difference(f73,1,0.2)"
   ]
  },
  {
   "cell_type": "markdown",
   "metadata": {},
   "source": [
    "- $y=tan⁡(\\frac{x}{3})   \\hspace{2em}  at \\hspace{.4em}               x=3,h=0.5$"
   ]
  },
  {
   "cell_type": "code",
   "execution_count": 17,
   "metadata": {},
   "outputs": [
    {
     "data": {
      "text/plain": [
       "1.2374751947913778"
      ]
     },
     "execution_count": 17,
     "metadata": {},
     "output_type": "execute_result"
    }
   ],
   "source": [
    "def f74(x):\n",
    "    return(np.tan(x/3))\n",
    "centered_difference(f74,3,0.5)"
   ]
  },
  {
   "cell_type": "code",
   "execution_count": null,
   "metadata": {},
   "outputs": [],
   "source": []
  }
 ],
 "metadata": {
  "colab": {
   "authorship_tag": "ABX9TyOhsEfo+3HB8WQN6FE2zxEc",
   "collapsed_sections": [],
   "name": "Module2 SPE-CCL Test Assessment.ipynb",
   "provenance": []
  },
  "kernelspec": {
   "display_name": "Python 3 (ipykernel)",
   "language": "python",
   "name": "python3"
  },
  "language_info": {
   "codemirror_mode": {
    "name": "ipython",
    "version": 3
   },
   "file_extension": ".py",
   "mimetype": "text/x-python",
   "name": "python",
   "nbconvert_exporter": "python",
   "pygments_lexer": "ipython3",
   "version": "3.9.7"
  }
 },
 "nbformat": 4,
 "nbformat_minor": 1
}
