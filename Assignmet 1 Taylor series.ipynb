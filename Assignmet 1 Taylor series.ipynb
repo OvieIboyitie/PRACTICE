{
 "cells": [
  {
   "cell_type": "markdown",
   "id": "3e4f4aa9",
   "metadata": {},
   "source": [
    "## MONTH 2 WEEK 1 ASSIGNMENT \n",
    "\n",
    "#### Make a function that computes the foward , backward and centered difference of a  function \n"
   ]
  },
  {
   "cell_type": "code",
   "execution_count": 1,
   "id": "7b71f7bb",
   "metadata": {},
   "outputs": [],
   "source": [
    "import matplotlib.pyplot as plt\n",
    "from math import sin"
   ]
  },
  {
   "cell_type": "code",
   "execution_count": 9,
   "id": "27204463",
   "metadata": {},
   "outputs": [],
   "source": [
    "#required function \n",
    "def f(x):\n",
    "    y = x**3\n",
    "    return y"
   ]
  },
  {
   "cell_type": "code",
   "execution_count": 3,
   "id": "7a254882",
   "metadata": {},
   "outputs": [],
   "source": [
    "#x is the pointwe want to compute for and h is our step size\n",
    "#COMPUTE DIFFERENTIALS USING SVEVERAL METHODS \n",
    "''' Backward difference '''\n",
    "backWard  = lambda x,h : (f(x) - f(x-h))/h\n",
    "\n",
    "''' Foward difference '''\n",
    "forWard   = lambda x,h : (f(x+h) - f(x))/h\n",
    "\n",
    "''' Centered difference '''\n",
    "centered  = lambda x,h : (f(x+h) - f(x-h))/(2*h)"
   ]
  },
  {
   "cell_type": "code",
   "execution_count": 26,
   "id": "c4a48aa0",
   "metadata": {
    "tags": []
   },
   "outputs": [
    {
     "data": {
      "text/plain": [
       "<matplotlib.legend.Legend at 0x1655d3a46a0>"
      ]
     },
     "execution_count": 26,
     "metadata": {},
     "output_type": "execute_result"
    },
    {
     "data": {
      "image/png": "[encoded data removed]",
      "text/plain": [
       "<Figure size 432x288 with 1 Axes>"
      ]
     },
     "metadata": {
      "needs_background": "light"
     },
     "output_type": "display_data"
    }
   ],
   "source": [
    "h      = 1   #Input step size\n",
    "xrange = list(range(0,20,h))\n",
    "plt.figure(figsize = (10,8))\n",
    "\n",
    "for i in [backWard,forWard,centered]:    \n",
    "    y = []\n",
    "    for x in xrange:\n",
    "        y.append(i(x,h))\n",
    "    plt.plot(xrange, y)\n",
    "    \n",
    "plt.legend(['Backward','Forward','Centered'])"
   ]
  },
  {
   "cell_type": "code",
   "execution_count": 52,
   "id": "1bea112e-19cb-4af4-9281-eaf27ec454e8",
   "metadata": {},
   "outputs": [
    {
     "data": {
      "text/plain": [
       "67.75"
      ]
     },
     "execution_count": 52,
     "metadata": {},
     "output_type": "execute_result"
    }
   ],
   "source": [
    "#Alos yuou can compute theses using just an x value \n",
    "#lets say x = 5 and stepsize h = 0.5\n",
    "backWard(5,0.5)"
   ]
  },
  {
   "cell_type": "code",
   "execution_count": 53,
   "id": "a2dc102e-fe29-453c-bf76-b9dc99e46bc7",
   "metadata": {},
   "outputs": [
    {
     "data": {
      "text/plain": [
       "82.75"
      ]
     },
     "execution_count": 53,
     "metadata": {},
     "output_type": "execute_result"
    }
   ],
   "source": [
    "forWard(5,0.5)"
   ]
  },
  {
   "cell_type": "code",
   "execution_count": 54,
   "id": "b7d8d533-9141-47eb-bb3f-d1e75640540d",
   "metadata": {},
   "outputs": [
    {
     "data": {
      "text/plain": [
       "75.25"
      ]
     },
     "execution_count": 54,
     "metadata": {},
     "output_type": "execute_result"
    }
   ],
   "source": [
    "centered(5,0.5)"
   ]
  },
  {
   "cell_type": "code",
   "execution_count": null,
   "id": "fb798a50-969e-416e-bc69-4e8f06095c7c",
   "metadata": {},
   "outputs": [],
   "source": []
  },
  {
   "cell_type": "code",
   "execution_count": 2,
   "id": "b2056103",
   "metadata": {},
   "outputs": [],
   "source": [
    "#x is the point we want to compute for, f is the function we are solving for and h is our step size\n",
    "#COMPUTE DIFFERENTIALS USING SVEVERAL METHODS \n",
    "''' Backward difference '''\n",
    "backWard  = lambda f,x,h : (f(x) - f(x-h))/h\n",
    "\n",
    "''' Foward difference '''\n",
    "forWard   = lambda f,x,h : (f(x+h) - f(x))/h\n",
    "\n",
    "''' Centered difference '''\n",
    "centered  = lambda f,x,h : (f(x+h) - f(x-h))/(2*h)"
   ]
  },
  {
   "cell_type": "code",
   "execution_count": 6,
   "id": "e4fccab7",
   "metadata": {},
   "outputs": [
    {
     "data": {
      "text/plain": [
       "75.00000000980833"
      ]
     },
     "execution_count": 6,
     "metadata": {},
     "output_type": "execute_result"
    }
   ],
   "source": [
    "\n",
    "centered(f,5,0.0001)\n"
   ]
  },
  {
   "cell_type": "code",
   "execution_count": 13,
   "id": "b6c1ca9a",
   "metadata": {},
   "outputs": [
    {
     "data": {
      "text/plain": [
       "11647.551000000001"
      ]
     },
     "execution_count": 13,
     "metadata": {},
     "output_type": "execute_result"
    }
   ],
   "source": [
    "second_order_centered = lambda f,x,h : (f(x+h)-2*f(x)+f(x-h)/h**2)\n",
    "second_order_centered(f,5,0.00001)"
   ]
  },
  {
   "cell_type": "code",
   "execution_count": 16,
   "id": "fc680db4",
   "metadata": {},
   "outputs": [
    {
     "data": {
      "text/plain": [
       "29.99996695507434"
      ]
     },
     "execution_count": 16,
     "metadata": {},
     "output_type": "execute_result"
    }
   ],
   "source": [
    "sec_order = lambda f,x,h : (forWard(f,x,h)-backWard(f,x,h))/h\n",
    "sec_order(f,5,0.00001)"
   ]
  },
  {
   "cell_type": "code",
   "execution_count": 24,
   "id": "95aa7e6d",
   "metadata": {},
   "outputs": [
    {
     "name": "stdout",
     "output_type": "stream",
     "text": [
      "-0.0004999999583255033\n",
      "0.0004999999583255033\n",
      "0.0\n",
      "-0.9999999166510065\n"
     ]
    }
   ],
   "source": [
    "class Numerical_Differentiation():\n",
    "    def __init__(self,x,f,h,y=None):\n",
    "        self.x = x\n",
    "        self.f = f\n",
    "        self.h = h\n",
    "        self.y = y\n",
    "        \n",
    "    def forward_difference(self):\n",
    "        diff = (f(self.x+self.h) - f(self.x))/self.h\n",
    "        return diff\n",
    "        \n",
    "    def backward_difference(self):\n",
    "        diff = (f(self.x) - f(self.x-self.h))/self.h\n",
    "        return diff\n",
    "    \n",
    "    def centered_difference(self):\n",
    "        diff = (f(self.x+self.h) - f(self.x-self.h))/(2*self.h)\n",
    "        return diff\n",
    "    def second_order_centered(self):\n",
    "        diff = (self.forward_difference()-self.backward_difference())/self.h\n",
    "        return diff\n",
    "    \n",
    "        \n",
    "def f(x):\n",
    "    return (math.cos(x))\n",
    "\n",
    "        \n",
    "c = Numerical_Differentiation(0,f,0.001)\n",
    "print(c.forward_difference())\n",
    "print(c.backward_difference())\n",
    "print(c.centered_difference())\n",
    "print(c.second_order_centered())\n",
    "\n"
   ]
  },
  {
   "cell_type": "code",
   "execution_count": null,
   "id": "3e309f66",
   "metadata": {},
   "outputs": [],
   "source": [
    "import math\n",
    "import numpy as np\n",
    "import matplotlib.pyplot as plt\n",
    "class Differential():\n",
    "    def __init__(self,x,f,h,y=None):\n",
    "        self.x = x\n",
    "        self.f = f\n",
    "        self.h = h\n",
    "        self.y = y\n",
    "        \n",
    "    def forward_difference(self):\n",
    "        diff = (f(self.x+self.h) - f(self.x))/self.h\n",
    "        return diff\n",
    "        \n",
    "    def backward_difference(self):\n",
    "        diff = (f(self.x) - f(self.x-self.h))/self.h\n",
    "        return diff\n",
    "    \n",
    "    def centered_difference(self):\n",
    "        diff = (f(self.x+self.h) - f(self.x-self.h))/(2*self.h)\n",
    "        return diff\n",
    "    def Euler_Method(self, x2):\n",
    "        yN = self.y + self.h * f(self.x,self.y)\n",
    "        xlist = []\n",
    "        ynumerical = []\n",
    "        ya = 4*self.x**3 \n",
    "        yana = []\n",
    "        x = self.x\n",
    "        y = self.y\n",
    "        h = self.h\n",
    "        while x <= x2 + h:\n",
    "            ynumerical.append(y)\n",
    "            y_prime = f(x,y)\n",
    "            yN = y + self.h * y_prime\n",
    "            ya = 4*x**3 \n",
    "            yana.append(ya)\n",
    "            xlist.append(x)\n",
    "            #ynumerical.append(yN)\n",
    "            x = x + h\n",
    "            y = yN\n",
    "        return xlist, ynumerical, yana\n",
    "        \n",
    "def f(x,y):\n",
    "    return math.cos(x)\n",
    "\n",
    "        \n",
    "a = Differential(5,f,0.0001)\n",
    "#a.forward_difference()\n",
    "a.backward_difference()\n",
    "a.centered_difference()\n",
    "\n",
    "b = Differential(0,f,0.2,math.pi)\n",
    "b.forward_difference()\n",
    "b.backward_difference()\n",
    "b.centered_difference()\n",
    "a = b.Euler_Method(0)\n",
    "\n",
    "#a = Euler_Method(0,math.pi,0, 0.2, cosine) \n",
    "\n",
    "x_values = a[0]\n",
    "#print(\">>>>>>>>>>>>>>> x_values <<<<<<<<<<<<<<<< \\n\")\n",
    "#print(x_values)\n",
    "y_num_values = a[1]\n",
    "print(\">>>>>>>>>>>>>>> y_num_values <<<<<<<<<<<<<<<< \\n\")\n",
    "print(y_num_values)\n",
    "y_anal_values = a[2]\n",
    "print(\">>>>>>>>>>>>>>> y_anal_values <<<<<<<<<<<<<<<< \\n\")\n",
    "print(y_anal_values)\n",
    "error = [analy - numeric for analy, numeric in zip(y_anal_values, y_num_values)]\n",
    "#print(\">>>>>>>>>>>>>>> error <<<<<<<<<<<<<<<< \\n\")\n",
    "#print(error)\n",
    "plt.plot(x_values, y_num_values, \"--b\", label = \"Numerical\")\n",
    "plt.plot(x_values, y_anal_values, \"-r\", label = \"Analytical\")\n",
    "plt.legend(loc = \"upper left\")\n",
    "#plt.plot(x_values, error)\n",
    "plt.grid()\n",
    "plt.show()\n",
    "plt.legend(loc = \"upper left\")\n",
    "plt.plot(x_values, error, \"-r\", label = \"error\")\n",
    "plt.legend(loc = \"upper left\")\n",
    "plt.grid()\n",
    "plt.show()\n",
    "\n",
    "\n"
   ]
  },
  {
   "cell_type": "code",
   "execution_count": null,
   "id": "cb59c9d3",
   "metadata": {},
   "outputs": [],
   "source": []
  },
  {
   "cell_type": "code",
   "execution_count": 28,
   "id": "b34e6ce8",
   "metadata": {},
   "outputs": [
    {
     "name": "stdout",
     "output_type": "stream",
     "text": [
      "-0.0004999999583255033\n",
      "0.0004999999583255033\n",
      "0.0\n",
      "-0.9999999166510065\n"
     ]
    },
    {
     "data": {
      "text/plain": [
       "([1, 1.2, 1.4, 1.5999999999999999, 1.7999999999999998, 1.9999999999999998],\n",
       " [4, 4.4, 4.840000000000001, 5.312, 5.8096, 6.327679999999999])"
      ]
     },
     "execution_count": 28,
     "metadata": {},
     "output_type": "execute_result"
    }
   ],
   "source": [
    "import math\n",
    "class Numerical_Differentiation():\n",
    "    def __init__(self,x,f,h,y=None):\n",
    "        self.x = x\n",
    "        self.f = f\n",
    "        self.h = h\n",
    "        self.y = y\n",
    "        \n",
    "    def forward_difference(self):\n",
    "        diff = (f(self.x+self.h) - f(self.x))/self.h\n",
    "        return diff\n",
    "        \n",
    "    def backward_difference(self):\n",
    "        diff = (f(self.x) - f(self.x-self.h))/self.h\n",
    "        return diff\n",
    "    \n",
    "    def centered_difference(self):\n",
    "        diff = (f(self.x+self.h) - f(self.x-self.h))/(2*self.h)\n",
    "        return diff\n",
    "    def second_order_centered(self):\n",
    "        diff = (self.forward_difference()-self.backward_difference())/self.h\n",
    "        return diff\n",
    "    def Euler_Method(self,x,x2,y,h,func):\n",
    "        yN = y + h * func(x,y)\n",
    "        xlist = []\n",
    "        ynumerical = []\n",
    "        while x <= x2 :\n",
    "            ynumerical.append(y)\n",
    "            y_prime = func(x,y)\n",
    "            yN = y + h * y_prime\n",
    "            xlist.append(x)\n",
    "            x = x + h\n",
    "            y = yN\n",
    "        return xlist, ynumerical\n",
    "    \n",
    "        \n",
    "def f(x):\n",
    "    return (math.cos(x))\n",
    "\n",
    "        \n",
    "c = Numerical_Differentiation(0,f,0.001)\n",
    "print(c.forward_difference())\n",
    "print(c.backward_difference())\n",
    "print(c.centered_difference())\n",
    "print(c.second_order_centered())\n",
    "def func11(x,y):\n",
    "    return (3*(1+x)-y)\n",
    "c.Euler_Method(1,2,4, 0.2, func11)\n"
   ]
  },
  {
   "cell_type": "code",
   "execution_count": null,
   "id": "fae994c6",
   "metadata": {},
   "outputs": [],
   "source": []
  },
  {
   "cell_type": "code",
   "execution_count": null,
   "id": "51a3ab61",
   "metadata": {},
   "outputs": [],
   "source": []
  },
  {
   "cell_type": "code",
   "execution_count": null,
   "id": "dec7ac06",
   "metadata": {},
   "outputs": [],
   "source": []
  }
 ],
 "metadata": {
  "kernelspec": {
   "display_name": "Python 3 (ipykernel)",
   "language": "python",
   "name": "python3"
  },
  "language_info": {
   "codemirror_mode": {
    "name": "ipython",
    "version": 3
   },
   "file_extension": ".py",
   "mimetype": "text/x-python",
   "name": "python",
   "nbconvert_exporter": "python",
   "pygments_lexer": "ipython3",
   "version": "3.9.7"
  }
 },
 "nbformat": 4,
 "nbformat_minor": 5
}
