{
 "cells": [
  {
   "cell_type": "markdown",
   "id": "1ae26393",
   "metadata": {},
   "source": [
    "## QUESTION 36"
   ]
  },
  {
   "cell_type": "code",
   "execution_count": 83,
   "id": "2b1245b7",
   "metadata": {},
   "outputs": [
    {
     "name": "stdout",
     "output_type": "stream",
     "text": [
      "enter the human age: 4\n",
      "4.0 human years is 29.0 dog years\n"
     ]
    }
   ],
   "source": [
    "H = float(input(\"enter the human age: \"))\n",
    "if H < 2:\n",
    "    D = H * 10.5\n",
    "    print(f\"{H} human years is {D} dog years\")\n",
    "else:\n",
    "    D = 2*10.5+(H-2)*4\n",
    "    print(f\"{H} human years is {D} dog years\")"
   ]
  },
  {
   "cell_type": "markdown",
   "id": "bfe1ca80",
   "metadata": {},
   "source": [
    "## QUESTION 38"
   ]
  },
  {
   "cell_type": "code",
   "execution_count": 85,
   "id": "50a4178d",
   "metadata": {},
   "outputs": [
    {
     "name": "stdout",
     "output_type": "stream",
     "text": [
      "enter the number of sides: 6\n",
      "this is a hexagon\n"
     ]
    }
   ],
   "source": [
    "num_side = int(input(\"enter the number of sides: \"))\n",
    "if num_side < 3:\n",
    "    print(\"invalid number of sides\")\n",
    "elif num_side == 3:\n",
    "    print(\"this is a triangle\")\n",
    "elif num_side == 4:\n",
    "    print(\"this is a quadrilateral\")\n",
    "elif num_side == 5:\n",
    "    print(\"this is a pentagon\")\n",
    "elif num_side == 6:\n",
    "    print(\"this is a hexagon\")\n",
    "elif num_side == 7:\n",
    "    print(\"this is a heptagon\")\n",
    "elif num_side == 8:\n",
    "    print(\"this is a octagon\")\n",
    "elif num_side == 9:\n",
    "    print(\"this is a nonagon\")\n",
    "elif num_side == 10:\n",
    "    print(\"this is a decagon\")\n",
    "else: \n",
    "    print(\"invalid number of sides\")"
   ]
  },
  {
   "cell_type": "markdown",
   "id": "e3485c5d",
   "metadata": {},
   "source": [
    "## QUESTION 40"
   ]
  },
  {
   "cell_type": "code",
   "execution_count": 86,
   "id": "6c31da20",
   "metadata": {},
   "outputs": [
    {
     "name": "stdout",
     "output_type": "stream",
     "text": [
      "enter the sound level in deciBells: 85\n",
      "the noise level is between quiet room and gas_lawnmower\n"
     ]
    }
   ],
   "source": [
    "jack_hammer = 130\n",
    "gas_lawnmower = 106\n",
    "alarm_clock = 70\n",
    "quiet_room = 40\n",
    "sl= int(input(\"enter the sound level in deciBells: \"))\n",
    "if sl < 40:\n",
    "    print(\"the sound level is below quiet\")\n",
    "elif sl == 40:\n",
    "    print(\"the noise level is quiet room\")\n",
    "elif sl>40 and sl<70:\n",
    "    print(\"the noise level is between quiet room and alarm clock\")\n",
    "elif sl==70:\n",
    "    print(\"the noise level is alarm clock\")\n",
    "elif sl>70 and sl<106:\n",
    "    print(\"the noise level is between quiet room and gas_lawnmower\")\n",
    "elif sl==106:\n",
    "    print(\"the noise level is gas_lawnmower\")\n",
    "elif sl>106 and sl<130:\n",
    "    print(\"the noise level is between gas_lawnmower and jack_hammer\")\n",
    "elif sl==130:\n",
    "    print(\"the noise level is jack_hammer\")\n",
    "else:\n",
    "    print(\"the noise level is higher than is jack_hammer\")"
   ]
  },
  {
   "cell_type": "markdown",
   "id": "9a951a42",
   "metadata": {},
   "source": [
    "## QUESTION 44"
   ]
  },
  {
   "cell_type": "code",
   "execution_count": 87,
   "id": "6c7d77b1",
   "metadata": {},
   "outputs": [
    {
     "name": "stdout",
     "output_type": "stream",
     "text": [
      "Denomination: 50\n",
      "Ulysses S. Granit\n"
     ]
    }
   ],
   "source": [
    "denomination= int(input(\"Denomination: \"))\n",
    "if denomination == 1:\n",
    "    print(\"George Washington\")\n",
    "elif denomination == 2: \n",
    "    print(\"Thomas Jefferson\")\n",
    "elif denomination == 5:\n",
    "    print(\"Abraham Lincoln\")\n",
    "elif denomination == 10:\n",
    "    print(\"Alexander Hamilton\")\n",
    "elif denomination == 20:\n",
    "    print(\"Andrew Jackson\")\n",
    "elif denomination == 50:\n",
    "    print(\"Ulysses S. Granit\")\n",
    "elif denomination == 100:\n",
    "    print(\"Benjamin Franklin\")\n",
    "else:\n",
    "    print(\"Invalid Denomination\")\n",
    "    "
   ]
  },
  {
   "cell_type": "markdown",
   "id": "a87d1e9c",
   "metadata": {},
   "source": [
    "## QUESTION 46"
   ]
  },
  {
   "cell_type": "code",
   "execution_count": 88,
   "id": "943e3d70",
   "metadata": {},
   "outputs": [
    {
     "name": "stdout",
     "output_type": "stream",
     "text": [
      "enter the alphabet and the number: c 6\n",
      "WHITE\n"
     ]
    }
   ],
   "source": [
    "(p, Q) = input(\"enter the alphabet and the number: \").split()\n",
    "q = int(Q)\n",
    "if q%2 == 0 and p == \"a\" or p == \"c\" or p == \"e\" or p == \"g\" :\n",
    "    print(\"WHITE\")\n",
    "elif q%2 == 1 and p == \"a\" or p == \"c\" or p == \"e\" or p == \"g\" :\n",
    "    print(\"BLACK\")\n",
    "elif q%2 == 1 and p == \"b\" or p == \"d\" or p == \"f\" or p == \"h\" :\n",
    "    print(\"WHITE\")\n",
    "else: \n",
    "    print(\"BLACK\")"
   ]
  },
  {
   "cell_type": "markdown",
   "id": "1c81e937",
   "metadata": {},
   "source": [
    "## QUESTION 50"
   ]
  },
  {
   "cell_type": "code",
   "execution_count": 89,
   "id": "e0bc6883",
   "metadata": {},
   "outputs": [
    {
     "name": "stdout",
     "output_type": "stream",
     "text": [
      "enter the magnitud of the earth quake: 50000000\n",
      "the earth quake is Meteoric \n"
     ]
    }
   ],
   "source": [
    "magnitude = float(input(\"enter the magnitud of the earth quake: \"))\n",
    "if magnitude < 2:\n",
    "    print(\"the eathquake is Micro\")\n",
    "elif magnitude > 2 and magnitude  < 3:\n",
    "    print(\"the earthquake is very minor\")\n",
    "elif magnitude > 3 and magnitude  < 4:\n",
    "    print(\"the earth quake is Minor \")\n",
    "elif magnitude > 4 and magnitude  < 5:\n",
    "    print(\"the earthquake is Light\")\n",
    "elif magnitude > 5 and magnitude  < 6:\n",
    "    print(\"the earth quake is Moderate \")\n",
    "elif magnitude > 6 and magnitude < 7:\n",
    "    print(\"the earthquake is Strong\")\n",
    "elif magnitude > 7 and magnitude < 8:\n",
    "    print(\"the earth quake is Major \")\n",
    "elif magnitude > 8 and magnitude  < 10:\n",
    "    print(\"the earthquake is Great\")\n",
    "else:\n",
    "    print(\"the earth quake is Meteoric \")"
   ]
  },
  {
   "cell_type": "markdown",
   "id": "f613babf",
   "metadata": {},
   "source": [
    "## QUESTION 52"
   ]
  },
  {
   "cell_type": "code",
   "execution_count": 90,
   "id": "583411a3",
   "metadata": {},
   "outputs": [
    {
     "name": "stdout",
     "output_type": "stream",
     "text": [
      "enter the grade: C-\n",
      "1.7 grade points\n"
     ]
    }
   ],
   "source": [
    "grade = input(\"enter the grade: \")\n",
    "if grade == \"A+\" or grade == \"A\":\n",
    "    print(\"4 grade points\")\n",
    "elif grade == \"A-\":\n",
    "    print(\"3.7 grade points\")\n",
    "elif grade == \"B+\":\n",
    "    print(\"3.3 grade points\")\n",
    "elif grade == \"B\":\n",
    "    print(\"3.0 grade points\")\n",
    "elif grade == \"B-\":\n",
    "    print(\"2.7 grade points\")\n",
    "elif grade == \"C+\":\n",
    "    print(\"2.3 grade points\")\n",
    "elif grade == \"C\":\n",
    "    print(\"2.0 grade points\")\n",
    "elif grade == \"C-\":\n",
    "    print(\"1.7 grade points\")\n",
    "elif grade == \"D+\":\n",
    "    print(\"1.3 grade points\")\n",
    "elif grade == \"D\":\n",
    "    print(\"1.0 grade points\")\n",
    "elif grade == \"F\":\n",
    "    print(\"0.0 grade points\")\n",
    "else:\n",
    "    print(\"invalid entry\")"
   ]
  },
  {
   "cell_type": "markdown",
   "id": "b9783842",
   "metadata": {},
   "source": [
    "## QUESTION 54"
   ]
  },
  {
   "cell_type": "code",
   "execution_count": 91,
   "id": "30e6f82a",
   "metadata": {},
   "outputs": [
    {
     "name": "stdout",
     "output_type": "stream",
     "text": [
      "enter the rating: 0.7\n",
      "Meritorious performance and the raise is $1680.0\n"
     ]
    }
   ],
   "source": [
    "rating = float(input(\"enter the rating: \"))\n",
    "if rating == 0.00 and rating < 0.4:\n",
    "    print(\"Unacceptable performance and his raise is $0\")\n",
    "elif rating == 0.4 and rating < 0.6:\n",
    "    print(\"Acceptable response and the raise is $0\")\n",
    "elif rating >= 0.6 and rating <= 1.0:\n",
    "    raisee = rating * 2400\n",
    "    print(f\"Meritorious performance and the raise is ${raisee}\")\n",
    "else:\n",
    "    print(\"ivalid rating\")"
   ]
  },
  {
   "cell_type": "markdown",
   "id": "d214e148",
   "metadata": {},
   "source": [
    "## QUESTION 56"
   ]
  },
  {
   "cell_type": "code",
   "execution_count": 92,
   "id": "4ae4ede5",
   "metadata": {},
   "outputs": [
    {
     "name": "stdout",
     "output_type": "stream",
     "text": [
      "enter the frequency: 6000000000\n",
      "Microwaves\n"
     ]
    }
   ],
   "source": [
    "frequency = float(input(\"enter the frequency: \"))\n",
    "if frequency < 3*pow(10,9):\n",
    "    print(\"Radio waves\")\n",
    "elif frequency >= 3*pow(10,9) and frequency < 3*pow(10,12) :\n",
    "    print(\"Microwaves\")\n",
    "elif frequency >= 3*pow(10,12) and frequency < 4.3*pow(10,14) :\n",
    "    print(\"Infrared Light\")\n",
    "elif frequency >= 4.3*pow(10,14) and frequency < 7.5*pow(10,14) :\n",
    "    print(\"Visible light\")\n",
    "elif frequency >= 7.5*pow(10,14) and frequency < 3*pow(10,17) :\n",
    "    print(\"ultraviolet light\")\n",
    "elif frequency >= 3*pow(10,17) and frequency < 3*pow(10,19) :\n",
    "    print(\"X_rays\")\n",
    "else:\n",
    "    print(\"Gamma Rays\")"
   ]
  },
  {
   "cell_type": "markdown",
   "id": "adbfcaee",
   "metadata": {},
   "source": [
    "## QUESTION 58"
   ]
  },
  {
   "cell_type": "code",
   "execution_count": 93,
   "id": "c07d5fe0",
   "metadata": {},
   "outputs": [
    {
     "name": "stdout",
     "output_type": "stream",
     "text": [
      "Enter the year: 2022\n",
      "the year is not a leap year\n"
     ]
    }
   ],
   "source": [
    "year = int(input(\"Enter the year: \"))\n",
    "if year%4 == 0:\n",
    "    print(\"the year is a leap year\")\n",
    "else:\n",
    "    print(\"the year is not a leap year\")"
   ]
  },
  {
   "cell_type": "markdown",
   "id": "83c27b45",
   "metadata": {},
   "source": [
    "## QUESTION 60"
   ]
  },
  {
   "cell_type": "code",
   "execution_count": 96,
   "id": "cb9d4793",
   "metadata": {},
   "outputs": [
    {
     "name": "stdout",
     "output_type": "stream",
     "text": [
      "enter the year: 2021\n",
      "2504\n"
     ]
    }
   ],
   "source": [
    "import math\n",
    "day1 = (year + math.floor((year-1)/4))- math.floor((year-1)/100) + math.floor((year-1)/400)%7\n",
    "year = int(input(\"enter the year: \"))\n",
    "print(day1)"
   ]
  },
  {
   "cell_type": "markdown",
   "id": "ce10f26d",
   "metadata": {},
   "source": [
    "## QUESTION 62"
   ]
  },
  {
   "cell_type": "code",
   "execution_count": 97,
   "id": "e156262c",
   "metadata": {},
   "outputs": [
    {
     "name": "stdout",
     "output_type": "stream",
     "text": [
      "Pay 28\n",
      "Pay Black\n",
      "Pay Odd\n",
      "19-36\n",
      "28\n"
     ]
    }
   ],
   "source": [
    "import random\n",
    "k = random.randint(0,36)\n",
    "if k==0:\n",
    "    print(\"pay 0 or pay 00\")\n",
    "elif k> 0 and k<10 and k%2 == 1:\n",
    "    print(f\"Pay {k}\")\n",
    "    print(\"Pay Red\")\n",
    "    print(\"Pay Even\")\n",
    "    print(\"1-18\")\n",
    "elif k> 10 and k<19 and k%2 == 0:\n",
    "    print(f\"Pay {k}\")\n",
    "    print(\"Pay Red\")\n",
    "    print(\"Pay Even\")\n",
    "    print(\"1-18\")\n",
    "elif k> 20 and k<28 and k%2 == 1:\n",
    "    print(f\"Pay {k}\")\n",
    "    print(\"Pay Red\")\n",
    "    print(\"Pay Even\")\n",
    "    print(\"1-18\")\n",
    "elif k> 29 and k <= 36 and k%2 == 0:\n",
    "    print(f\"Pay {k}\")\n",
    "    print(\"Pay Red\")\n",
    "    print(\"Pay Even\")\n",
    "    print(\"1-18\")\n",
    "else: \n",
    "    print(f\"Pay {k}\")\n",
    "    print(\"Pay Black\")\n",
    "    print(\"Pay Odd\")\n",
    "    print(\"19-36\")\n",
    "print(k)"
   ]
  },
  {
   "cell_type": "code",
   "execution_count": null,
   "id": "7e96d818",
   "metadata": {},
   "outputs": [],
   "source": []
  },
  {
   "cell_type": "code",
   "execution_count": null,
   "id": "f5494a2e",
   "metadata": {},
   "outputs": [],
   "source": []
  },
  {
   "cell_type": "code",
   "execution_count": null,
   "id": "ebbd5ba1",
   "metadata": {},
   "outputs": [],
   "source": []
  },
  {
   "cell_type": "code",
   "execution_count": null,
   "id": "e480d39a",
   "metadata": {},
   "outputs": [],
   "source": []
  },
  {
   "cell_type": "code",
   "execution_count": null,
   "id": "0f485ddc",
   "metadata": {},
   "outputs": [],
   "source": []
  },
  {
   "cell_type": "code",
   "execution_count": null,
   "id": "c171a3f8",
   "metadata": {},
   "outputs": [],
   "source": []
  }
 ],
 "metadata": {
  "kernelspec": {
   "display_name": "Python 3 (ipykernel)",
   "language": "python",
   "name": "python3"
  },
  "language_info": {
   "codemirror_mode": {
    "name": "ipython",
    "version": 3
   },
   "file_extension": ".py",
   "mimetype": "text/x-python",
   "name": "python",
   "nbconvert_exporter": "python",
   "pygments_lexer": "ipython3",
   "version": "3.9.7"
  }
 },
 "nbformat": 4,
 "nbformat_minor": 5
}
