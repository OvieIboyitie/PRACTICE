{
 "cells": [
  {
   "cell_type": "markdown",
   "id": "177dd012",
   "metadata": {},
   "source": [
    "# QUESTION 1"
   ]
  },
  {
   "cell_type": "code",
   "execution_count": 1,
   "id": "4c48c888",
   "metadata": {},
   "outputs": [
    {
     "data": {
      "text/plain": [
       "559872.0"
      ]
     },
     "execution_count": 1,
     "metadata": {},
     "output_type": "execute_result"
    }
   ],
   "source": [
    "2 * (1 + 500/100)**7"
   ]
  },
  {
   "cell_type": "markdown",
   "id": "f596c8b7",
   "metadata": {},
   "source": [
    "# QUESTION 2"
   ]
  },
  {
   "cell_type": "code",
   "execution_count": 3,
   "id": "2257ec8d",
   "metadata": {},
   "outputs": [
    {
     "data": {
      "text/plain": [
       "276.496"
      ]
     },
     "execution_count": 3,
     "metadata": {},
     "output_type": "execute_result"
    }
   ],
   "source": [
    "3.142 * 4**2 + 2 * 3.142 * 4 * 9"
   ]
  },
  {
   "cell_type": "markdown",
   "id": "d851b46a",
   "metadata": {},
   "source": [
    "# QUESTION 3"
   ]
  },
  {
   "cell_type": "code",
   "execution_count": 4,
   "id": "e340334d",
   "metadata": {},
   "outputs": [
    {
     "data": {
      "text/plain": [
       "39.2"
      ]
     },
     "execution_count": 4,
     "metadata": {},
     "output_type": "execute_result"
    }
   ],
   "source": [
    "(2 * 5* 4)/(5+5) * 9.8"
   ]
  },
  {
   "cell_type": "markdown",
   "id": "f16a68ed",
   "metadata": {},
   "source": [
    "# QUESTION 4"
   ]
  },
  {
   "cell_type": "code",
   "execution_count": 6,
   "id": "85857b99",
   "metadata": {},
   "outputs": [
    {
     "data": {
      "text/plain": [
       "-9.804"
      ]
     },
     "execution_count": 6,
     "metadata": {},
     "output_type": "execute_result"
    }
   ],
   "source": [
    "1/10 * 2 * (1 - 2/100) - 10"
   ]
  },
  {
   "cell_type": "markdown",
   "id": "b959969b",
   "metadata": {},
   "source": [
    "# QUESTION 5"
   ]
  },
  {
   "cell_type": "code",
   "execution_count": 9,
   "id": "a98cc828",
   "metadata": {},
   "outputs": [
    {
     "data": {
      "text/plain": [
       "(1.020538999289461e-17+0.16666666666666666j)"
      ]
     },
     "execution_count": 9,
     "metadata": {},
     "output_type": "execute_result"
    }
   ],
   "source": [
    "((1/(3*4))- (2**2)/(4 * 3 **2))**0.5"
   ]
  },
  {
   "cell_type": "code",
   "execution_count": null,
   "id": "5769541d",
   "metadata": {},
   "outputs": [],
   "source": []
  }
 ],
 "metadata": {
  "kernelspec": {
   "display_name": "Python 3 (ipykernel)",
   "language": "python",
   "name": "python3"
  },
  "language_info": {
   "codemirror_mode": {
    "name": "ipython",
    "version": 3
   },
   "file_extension": ".py",
   "mimetype": "text/x-python",
   "name": "python",
   "nbconvert_exporter": "python",
   "pygments_lexer": "ipython3",
   "version": "3.9.7"
  }
 },
 "nbformat": 4,
 "nbformat_minor": 5
}
