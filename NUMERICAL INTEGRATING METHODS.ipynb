{
 "cells": [
  {
   "cell_type": "code",
   "execution_count": 5,
   "id": "bddeedc8",
   "metadata": {},
   "outputs": [
    {
     "name": "stdout",
     "output_type": "stream",
     "text": [
      "1e-06\n"
     ]
    },
    {
     "data": {
      "text/plain": [
       "0.693147680575747"
      ]
     },
     "execution_count": 5,
     "metadata": {},
     "output_type": "execute_result"
    }
   ],
   "source": [
    "import numpy as np\n",
    "def trapezoidal(a,b,f,h=None,n=None):\n",
    "    try:\n",
    "        h = (b-a)/n\n",
    "        print(h, n)\n",
    "        x_values = np.linspace(a,b,n+1)\n",
    "    except Exception:\n",
    "        x_values = np.arange(a,b+h,h)\n",
    "        print(h)\n",
    "    sum_ = f(x_values[0]) + f(x_values[-1])\n",
    "    for i in x_values[1:-1]:\n",
    "        sum_ += 2*f(i)\n",
    "    return h/2 * sum_\n",
    "\n",
    "def func(x):\n",
    "    return 1/x\n",
    "trapezoidal(1,2,func,h=0.000001)"
   ]
  },
  {
   "cell_type": "code",
   "execution_count": 6,
   "id": "7927bd10",
   "metadata": {},
   "outputs": [
    {
     "data": {
      "text/plain": [
       "1.4642077146395185"
      ]
     },
     "execution_count": 6,
     "metadata": {},
     "output_type": "execute_result"
    }
   ],
   "source": [
    "def simpson_1_3(a,b,f,n):\n",
    "    if n != None and n%2 == 0:\n",
    "        h = (b-a)/n\n",
    "        x_values = np.linspace(a,b,n+1)\n",
    "        sum_ = f(x_values[0]) + f(x_values[-1])\n",
    "        for i in range(1,n):\n",
    "            if i%2 == 0:\n",
    "                sum_ += 2*f(x_values[i])\n",
    "            else:\n",
    "                sum_ += 4*f(x_values[i])\n",
    "        return h/3 * sum_\n",
    "    elif n != None and n%2 == 1:\n",
    "        print(\"n has to be an even number\")\n",
    "    \n",
    "def func12(x):\n",
    "    return 1/(np.sqrt(x+1))\n",
    "\n",
    "simpson_1_3(0,2,func12,6)\n",
    "\n"
   ]
  },
  {
   "cell_type": "code",
   "execution_count": 7,
   "id": "8bb4d8ed",
   "metadata": {},
   "outputs": [
    {
     "data": {
      "text/plain": [
       "1.4643135462314754"
      ]
     },
     "execution_count": 7,
     "metadata": {},
     "output_type": "execute_result"
    }
   ],
   "source": [
    "def simpson_3_8(a,b,f,n):\n",
    "    if n != None and n%3 == 0:\n",
    "        h = (b-a)/n\n",
    "        x_values = np.linspace(a,b,n+1)\n",
    "        sum_ = f(x_values[0]) + f(x_values[-1])\n",
    "        for i in range(1,n):\n",
    "            if i%3 == 0:\n",
    "                sum_ += 2*f(x_values[i])\n",
    "            else:\n",
    "                sum_ += 3*f(x_values[i])\n",
    "        return 3*h/8 * sum_\n",
    "    else:\n",
    "        print(\"n has to be a multiple of 3\")\n",
    "    \n",
    "simpson_3_8(0,2,func12,6)    "
   ]
  },
  {
   "cell_type": "code",
   "execution_count": 8,
   "id": "bcc59a20",
   "metadata": {},
   "outputs": [
    {
     "name": "stdout",
     "output_type": "stream",
     "text": [
      "0.001\n"
     ]
    },
    {
     "data": {
      "text/plain": [
       "1.4648903239202573"
      ]
     },
     "execution_count": 8,
     "metadata": {},
     "output_type": "execute_result"
    }
   ],
   "source": [
    "def rectangular(a,b,f,h=None,n=None):\n",
    "    try:\n",
    "        h = (b-a)/n\n",
    "        print(h, n)\n",
    "        x_values = np.linspace(a,b,n+1)\n",
    "        #print(x_values)\n",
    "    except Exception:\n",
    "        x_values = np.arange(a,b+h,h)\n",
    "        print(h)\n",
    "    sum_ = 0\n",
    "    for i in x_values:\n",
    "        sum_ += f(i)\n",
    "    return h * sum_\n",
    "rectangular(0,2,func12,h=0.001)    "
   ]
  },
  {
   "cell_type": "code",
   "execution_count": 31,
   "id": "db511986",
   "metadata": {},
   "outputs": [
    {
     "name": "stdout",
     "output_type": "stream",
     "text": [
      "1.4761235753592516\n",
      "1.480546950757351\n",
      "1.4641016170564958\n",
      "1.4641016194513585\n"
     ]
    }
   ],
   "source": [
    "class Numerical_Integration():\n",
    "    def __init__(self,f,a,b,h=None,n=None):\n",
    "        #self.f = f\n",
    "        self.a = a\n",
    "        self.b = b\n",
    "        self.h = h\n",
    "        self.n = n\n",
    "        self.f = f\n",
    "   \n",
    "    \n",
    "    def trapezoidal(self):\n",
    "        f = self.f\n",
    "        try:\n",
    "            h = (self.b-self.a)/self.n\n",
    "            self.h = h\n",
    "            x_values = np.linspace(self.a,self.b,n+1)\n",
    "        except Exception:\n",
    "            x_values = np.arange(self.a,self.b+self.h,self.h)\n",
    "        sum_ = f(x_values[0]) + f(x_values[-1])\n",
    "        for i in x_values[1:-1]:\n",
    "            sum_ += 2*f(i)\n",
    "        return self.h/2 * sum_\n",
    "    \n",
    "    def simpson_1_3(self):\n",
    "        f = self.f\n",
    "        if self.n != None and self.n%2 == 0:\n",
    "            h = (self.b-self.a)/self.n\n",
    "            self.h = h\n",
    "            x_values = np.linspace(self.a,self.b,self.n+1)\n",
    "            sum_ = f(x_values[0]) + f(x_values[-1])\n",
    "            for i in range(1,self.n):\n",
    "                if i%2 == 0:\n",
    "                    sum_ += 2*f(x_values[i])\n",
    "                else:\n",
    "                    sum_ += 4*f(x_values[i])\n",
    "            return self.h/3 * sum_\n",
    "        elif self.n != None and self.n%2 == 1:\n",
    "            print(\"n has to be an even number\")\n",
    "            \n",
    "    def simpson_3_8(self):\n",
    "        f = self.f\n",
    "        if self.n != None and self.n%3 == 0:\n",
    "            h = (self.b-self.a)/self.n\n",
    "            self.h = h\n",
    "            x_values = np.linspace(self.a,self.b,self.n+1)\n",
    "            sum_ = f(x_values[0]) + f(x_values[-1])\n",
    "            for i in range(1,self.n):\n",
    "                if i%3 == 0:\n",
    "                    sum_ += 2*f(x_values[i])\n",
    "                else:\n",
    "                    sum_ += 3*f(x_values[i])\n",
    "            return 3*self.h/8 * sum_\n",
    "        else:\n",
    "            print(\"n has to be a multiple of 3\")\n",
    "    def rectangular(self):\n",
    "        f = self.f\n",
    "        try:\n",
    "            h = (self.b-self.a)/self.n\n",
    "            self.h = h\n",
    "            x_values = np.linspace(self.a,self.b,self.n+1)\n",
    "            #print(x_values)\n",
    "        except Exception:\n",
    "            x_values = np.arange(self.a,self.b+self.h,self.h)\n",
    "        sum_ = 0\n",
    "        for i in x_values:\n",
    "            sum_ += f(i)\n",
    "        return self.h * sum_\n",
    "z = Numerical_Integration(func12,0,2,n=96)  \n",
    "print(z.trapezoidal())\n",
    "print(z.rectangular())\n",
    "print(z.simpson_1_3())\n",
    "print(z.simpson_3_8())"
   ]
  },
  {
   "cell_type": "code",
   "execution_count": null,
   "id": "812a808c",
   "metadata": {},
   "outputs": [],
   "source": [
    " @proerty\n",
    "    def h(self):\n",
    "        return self.h\n",
    "    @h.setter\n",
    "    def h(self,z):\n",
    "        self.h = z\n",
    "    @proerty\n",
    "    def n(self):\n",
    "        return self.n\n",
    "    @h.setter\n",
    "    def n(self,z):\n",
    "        self.n = z"
   ]
  }
 ],
 "metadata": {
  "kernelspec": {
   "display_name": "Python 3 (ipykernel)",
   "language": "python",
   "name": "python3"
  },
  "language_info": {
   "codemirror_mode": {
    "name": "ipython",
    "version": 3
   },
   "file_extension": ".py",
   "mimetype": "text/x-python",
   "name": "python",
   "nbconvert_exporter": "python",
   "pygments_lexer": "ipython3",
   "version": "3.9.7"
  }
 },
 "nbformat": 4,
 "nbformat_minor": 5
}
