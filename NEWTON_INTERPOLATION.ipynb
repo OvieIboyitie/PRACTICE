{
 "cells": [
  {
   "cell_type": "code",
   "execution_count": 14,
   "id": "babc204f",
   "metadata": {},
   "outputs": [
    {
     "name": "stdout",
     "output_type": "stream",
     "text": [
      "The minimum value of the function is: 1.5707963267949059 after 4 iterations\n"
     ]
    }
   ],
   "source": [
    "import sys\n",
    "from math import sin, pi\n",
    "def newton_interpolation(f, x,max_iter, tol):\n",
    "    calc_tol = sys.float_info.max\n",
    "    x_opt = x\n",
    "    _iter = 1\n",
    "    h = 0.001\n",
    "    #f0 = f(x0)\n",
    "    backWard  = lambda f,x,h : (f(x) - f(x-h))/h\n",
    "    forWard   = lambda f,x,h : (f(x+h) - f(x))/h\n",
    "    centered  = lambda f,x,h : (f(x+h) - f(x-h))/(2*h)\n",
    "    sec_order = lambda f,x,h : (forWard(f,x,h)-backWard(f,x,h))/h\n",
    "    first_differential = centered(f,x_opt,h)\n",
    "    second_differential = sec_order(f,x_opt,h)\n",
    "    x_opt = x_opt - (first_differential/second_differential)\n",
    "    while (calc_tol >= tol and _iter < max_iter):\n",
    "        first_differential = centered(f,x_opt,h)\n",
    "        second_differential = sec_order(f,x_opt,h)\n",
    "        x_old = x_opt\n",
    "        x_opt = x_opt - (first_differential/second_differential)\n",
    "        _iter += 1\n",
    "        calc_tol = abs(x_old-x_opt) # This is not the absolute error\n",
    "    return(x_opt, _iter)\n",
    "        \n",
    "sine = lambda x: -sin(x) \n",
    "result = newton_interpolation(sine,0.6*pi,200, 0.00000000001)\n",
    "print(f\"The minimum value of the function is: {result[0]} after {result[1]} iterations\")"
   ]
  },
  {
   "cell_type": "code",
   "execution_count": 17,
   "id": "34b2df8c",
   "metadata": {},
   "outputs": [
    {
     "name": "stdout",
     "output_type": "stream",
     "text": [
      "The minimum value of the function is: 1.427551756931703 after 4 iterations\n"
     ]
    }
   ],
   "source": [
    "def f2(x):\n",
    "    return (2*sin(x) - x**2/10)\n",
    "result = newton_interpolation(f2,0.6*pi,200, 0.000001)\n",
    "print(f\"The minimum value of the function is: {result[0]} after {result[1]} iterations\")\n"
   ]
  },
  {
   "cell_type": "code",
   "execution_count": 22,
   "id": "0fb9b357",
   "metadata": {},
   "outputs": [
    {
     "name": "stdout",
     "output_type": "stream",
     "text": [
      "The minimum value of the function is: -0.5866820087502783 after 7 iterations\n"
     ]
    }
   ],
   "source": [
    "def f3(x):\n",
    "    return (3+6*x+5*x**2+3*x**3+4*x**4)\n",
    "result = newton_interpolation(f3,-2,200, 0.000001)\n",
    "print(f\"The minimum value of the function is: {result[0]} after {result[1]} iterations\")\n"
   ]
  },
  {
   "cell_type": "code",
   "execution_count": null,
   "id": "77a71a0d",
   "metadata": {},
   "outputs": [],
   "source": []
  }
 ],
 "metadata": {
  "kernelspec": {
   "display_name": "Python 3 (ipykernel)",
   "language": "python",
   "name": "python3"
  },
  "language_info": {
   "codemirror_mode": {
    "name": "ipython",
    "version": 3
   },
   "file_extension": ".py",
   "mimetype": "text/x-python",
   "name": "python",
   "nbconvert_exporter": "python",
   "pygments_lexer": "ipython3",
   "version": "3.9.7"
  }
 },
 "nbformat": 4,
 "nbformat_minor": 5
}
