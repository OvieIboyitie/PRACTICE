{
 "cells": [
  {
   "cell_type": "markdown",
   "id": "9a7c4725",
   "metadata": {},
   "source": [
    "# SPE-CCL Module 1 Assessment Test.\n",
    "### Introduction to Python Programming.\n",
    "\n",
    "#### Attempt all Question."
   ]
  },
  {
   "cell_type": "markdown",
   "id": "72786239",
   "metadata": {},
   "source": [
    "## Total Score 51/50\n",
    "\n",
    "### Breakdown\n",
    "\n",
    "- Question 1: 9/10\n",
    "\n",
    "- Question 2: 10/10\n",
    "\n",
    "- Question 3: 12/10\n",
    "\n",
    "- Question 4: 10/10\n",
    "\n",
    "- Question 5: 10/10"
   ]
  },
  {
   "cell_type": "code",
   "execution_count": 9,
   "id": "dd52f035",
   "metadata": {},
   "outputs": [
    {
     "data": {
      "text/plain": [
       "51"
      ]
     },
     "execution_count": 9,
     "metadata": {},
     "output_type": "execute_result"
    }
   ],
   "source": [
    "9 + 10 + 12 + 10 + 10"
   ]
  },
  {
   "cell_type": "markdown",
   "id": "82cc2fa4",
   "metadata": {},
   "source": [
    "## Question 1\n",
    "\n",
    "The value of $π$ can be approximated by the following infinite series:\n",
    "\n",
    "$π ≈ 3 + \\frac{4}{\n",
    "2 × 3 × 4}\n",
    "− \\frac{4}{\n",
    "4 × 5 × 6}\n",
    "+ \\frac{4}{\n",
    "6 × 7 × 8}\n",
    "− \\frac{4}{\n",
    "8 × 9 × 10}\n",
    "+ \\frac{4}{\n",
    "10 × 11 × 12}\n",
    "−· · ·$\n",
    "\n",
    "Write a program that displays 15 approximations of $π$. The first approximation\n",
    "should make use of only the first term from the infinite series. Each additional\n",
    "approximation displayed by your program should include one more term in the series,\n",
    "making it a better approximation of $π$ than any of the approximations displayed previously."
   ]
  },
  {
   "cell_type": "code",
   "execution_count": null,
   "id": "6cc7bd4c",
   "metadata": {},
   "outputs": [],
   "source": [
    "# Complete Solution 1 Here: estimated time to complete 30 mins"
   ]
  },
  {
   "cell_type": "code",
   "execution_count": null,
   "id": "74f321a2",
   "metadata": {},
   "outputs": [],
   "source": [
    "# score 9 of 10"
   ]
  },
  {
   "cell_type": "code",
   "execution_count": 40,
   "id": "56db2664",
   "metadata": {},
   "outputs": [
    {
     "name": "stdout",
     "output_type": "stream",
     "text": [
      "[3.1666666666666665] \n",
      "\n",
      "\n",
      "[3.1666666666666665, 3.1333333333333333] \n",
      "\n",
      "\n",
      "[3.1666666666666665, 3.1333333333333333, 3.145238095238095] \n",
      "\n",
      "\n",
      "[3.1666666666666665, 3.1333333333333333, 3.145238095238095, 3.1396825396825396] \n",
      "\n",
      "\n",
      "[3.1666666666666665, 3.1333333333333333, 3.145238095238095, 3.1396825396825396, 3.1427128427128426] \n",
      "\n",
      "\n",
      "[3.1666666666666665, 3.1333333333333333, 3.145238095238095, 3.1396825396825396, 3.1427128427128426, 3.1408813408813407] \n",
      "\n",
      "\n",
      "[3.1666666666666665, 3.1333333333333333, 3.145238095238095, 3.1396825396825396, 3.1427128427128426, 3.1408813408813407, 3.142071817071817] \n",
      "\n",
      "\n",
      "[3.1666666666666665, 3.1333333333333333, 3.145238095238095, 3.1396825396825396, 3.1427128427128426, 3.1408813408813407, 3.142071817071817, 3.1412548236077646] \n",
      "\n",
      "\n",
      "[3.1666666666666665, 3.1333333333333333, 3.145238095238095, 3.1396825396825396, 3.1427128427128426, 3.1408813408813407, 3.142071817071817, 3.1412548236077646, 3.141839618929402] \n",
      "\n",
      "\n",
      "[3.1666666666666665, 3.1333333333333333, 3.145238095238095, 3.1396825396825396, 3.1427128427128426, 3.1408813408813407, 3.142071817071817, 3.1412548236077646, 3.141839618929402, 3.1414067184965018] \n",
      "\n",
      "\n",
      "[3.1666666666666665, 3.1333333333333333, 3.145238095238095, 3.1396825396825396, 3.1427128427128426, 3.1408813408813407, 3.142071817071817, 3.1412548236077646, 3.141839618929402, 3.1414067184965018, 3.1417360992606653] \n",
      "\n",
      "\n",
      "[3.1666666666666665, 3.1333333333333333, 3.145238095238095, 3.1396825396825396, 3.1427128427128426, 3.1408813408813407, 3.142071817071817, 3.1412548236077646, 3.141839618929402, 3.1414067184965018, 3.1417360992606653, 3.141479689004255] \n",
      "\n",
      "\n",
      "[3.1666666666666665, 3.1333333333333333, 3.145238095238095, 3.1396825396825396, 3.1427128427128426, 3.1408813408813407, 3.142071817071817, 3.1412548236077646, 3.141839618929402, 3.1414067184965018, 3.1417360992606653, 3.141479689004255, 3.1416831892077552] \n",
      "\n",
      "\n",
      "[3.1666666666666665, 3.1333333333333333, 3.145238095238095, 3.1396825396825396, 3.1427128427128426, 3.1408813408813407, 3.142071817071817, 3.1412548236077646, 3.141839618929402, 3.1414067184965018, 3.1417360992606653, 3.141479689004255, 3.1416831892077552, 3.1415189855952756] \n",
      "\n",
      "\n",
      "[3.1666666666666665, 3.1333333333333333, 3.145238095238095, 3.1396825396825396, 3.1427128427128426, 3.1408813408813407, 3.142071817071817, 3.1412548236077646, 3.141839618929402, 3.1414067184965018, 3.1417360992606653, 3.141479689004255, 3.1416831892077552, 3.1415189855952756, 3.141653394197426] \n",
      "\n",
      "\n"
     ]
    }
   ],
   "source": [
    "pi = 3\n",
    "my_pi = []\n",
    "for i in range(15):\n",
    "    if (i+1) % 2 == 0:\n",
    "        pi= pi - (4/((2+2*i)* (3+2*i)*(4+2*i))) \n",
    "    else:\n",
    "         pi= pi + (4/((2+2*i)* (3+2*i)*(4+2*i)))\n",
    "    my_pi.append(pi)\n",
    "    \n",
    "    print(my_pi, \"\\n\\n\")"
   ]
  },
  {
   "cell_type": "markdown",
   "id": "d1eff52f",
   "metadata": {},
   "source": [
    "## Question 2\n",
    "\n",
    "The following formula can be used to determine the day of the week for January 1\n",
    "in a given year:\n",
    "\n",
    "$day of the week = (year + floor((year − 1) / 4) − floor((year − 1) / 100) +\n",
    "floor((year − 1) / 400)) % 7$\n",
    "\n",
    "The result calculated by this formula is an integer that represents the day of the\n",
    "week. Sunday is represented by 0. The remaining days of the week following in\n",
    "sequence through to Saturday, which is represented by 6.\n",
    "Use the formula above to write a program that reads a year from the user and\n",
    "reports the day of the week for January 1 of that year. The output from your program\n",
    "should include the full name of the day of the week, not just the integer returned by\n",
    "the formula."
   ]
  },
  {
   "cell_type": "code",
   "execution_count": null,
   "id": "05f43ae2",
   "metadata": {},
   "outputs": [],
   "source": [
    "# Complete Solution 2 Here: estimated time to complete 20 mins"
   ]
  },
  {
   "cell_type": "code",
   "execution_count": null,
   "id": "9506e566",
   "metadata": {},
   "outputs": [],
   "source": [
    "# score 10 of 10"
   ]
  },
  {
   "cell_type": "code",
   "execution_count": 1,
   "id": "b37ed6d0",
   "metadata": {},
   "outputs": [
    {
     "name": "stdout",
     "output_type": "stream",
     "text": [
      "Enter the year: 2022\n",
      "6\n"
     ]
    },
    {
     "data": {
      "text/plain": [
       "'Saturday'"
      ]
     },
     "execution_count": 1,
     "metadata": {},
     "output_type": "execute_result"
    }
   ],
   "source": [
    "import math\n",
    "def first_day_of_year(year):\n",
    "    \n",
    "    a = math.floor((year - 1)/4)\n",
    "    b = math.floor((year - 1)/100)\n",
    "    c = math.floor((year - 1)/400)\n",
    "    dayoftheweek = (year+a-b+c)%7\n",
    "    print(dayoftheweek)\n",
    "    if dayoftheweek == 0:\n",
    "        return (\"Sunday\")\n",
    "    elif dayoftheweek == 1:\n",
    "        return (\"Monday\")\n",
    "    elif dayoftheweek == 2:\n",
    "        return (\"Tuesday\")\n",
    "    elif dayoftheweek == 3:\n",
    "        return (\"Wednesday\")\n",
    "    elif dayoftheweek == 4:\n",
    "        return (\"Thursday\")\n",
    "    elif dayoftheweek == 5:\n",
    "        return (\"Friday\")\n",
    "    elif dayoftheweek == 6:\n",
    "        return (\"Saturday\")\n",
    "\n",
    "year = int(input(\"Enter the year: \"))\n",
    "first_day_of_year(year)"
   ]
  },
  {
   "cell_type": "markdown",
   "id": "a1be0621",
   "metadata": {},
   "source": [
    "## Question 3\n",
    "\n",
    "A line of best fit is a straight line that best approximates a collection of n data points.\n",
    "In this exercise, we will assume that each point in the collection has an $x$ coordinate\n",
    "and a $y$ coordinate. The symbols $\\bar{x}$ and $\\bar{y}$ are used to represent the average $x$ value in\n",
    "the collection and the average $y$ value in the collection respectively. The line of best\n",
    "fit is represented by the equation $y = mx + b$ where m and b are calculated using\n",
    "the following formulas:\n",
    "\n",
    "$$\n",
    "m = \\frac{\\sum{xy} − \\frac{(\\sum{x})(\\sum{y})}{n}}{\\sum{x}^2 - \\frac{(\\sum{x})^2}{n}}\n",
    "$$\n",
    "\n",
    "\n",
    "$$b = \\bar{y} − m\\bar{x}$$\n",
    "\n",
    "\n",
    "Write a program that reads a collection of points from the user. The user will enter\n",
    "the first $x$ coordinate on its own line, followed by the first $y$ coordinate on its own\n",
    "line. Allow the user to continue entering coordinates, with the $x$ and $y$ values each\n",
    "entered on their own line, until your program reads a blank line for the $x$ coordinate.\n",
    "Display the formula for the line of best fit in the form $b = \\bar{y} − m\\bar{x}$ by replacing $m$\n",
    "and $b$ with the values calculated by the preceding formulas. For example, if the user\n",
    "inputs the coordinates (1, 1), (2, 2.1) and (3, 2.9) then your program should display\n",
    "$y = 0.95x + 0.1$."
   ]
  },
  {
   "cell_type": "code",
   "execution_count": null,
   "id": "b2e06b2d",
   "metadata": {},
   "outputs": [],
   "source": [
    "# Complete Solution 3 Here: estimated time to complete 30 mins"
   ]
  },
  {
   "cell_type": "code",
   "execution_count": null,
   "id": "53f43800",
   "metadata": {},
   "outputs": [],
   "source": [
    "# score 12 of 10"
   ]
  },
  {
   "cell_type": "code",
   "execution_count": 2,
   "id": "dbe5f39b",
   "metadata": {},
   "outputs": [
    {
     "name": "stdout",
     "output_type": "stream",
     "text": [
      "Enter the x cordinated: 1\n",
      "Enter the y cordinated: 1\n",
      "Enter the x cordinated: 2\n",
      "Enter the y cordinated: 2.1\n",
      "Enter the x cordinated: 3\n",
      "Enter the y cordinated: 2.9\n",
      "Enter the x cordinated: \n",
      "[(1.0, 1.0), (2.0, 2.1), (3.0, 2.9)]\n"
     ]
    },
    {
     "data": {
      "text/plain": [
       "' y = 0.95x + 0.1'"
      ]
     },
     "execution_count": 2,
     "metadata": {},
     "output_type": "execute_result"
    }
   ],
   "source": [
    "def line_of_best_fit(list_cord):                # list_cord is a list of tuples of both x and y points\n",
    "    xy_prod = []                                # list of product of \"x\" and \"y\"\n",
    "    x_points = []                               # list of \"x\" points\n",
    "    y_points = []                               # list of \"y\" points\n",
    "    x_squared = []                              # list of \"x squared\"\n",
    "    for points in list_cord:                    # points is tuple of \"x\" and \"y\"\n",
    "        x = points[0]\n",
    "        y = points[1]\n",
    "        prod_x_y = x*y                          #product of \"x\" and \"y\" \n",
    "        xy_prod.append(prod_x_y)                \n",
    "        x_points.append(x)\n",
    "        y_points.append(y)\n",
    "        n = len(list_cord)                       # n is the number of points\n",
    "        xsquared = x*x                           # \"x squared\"\n",
    "        x_squared.append(xsquared)\n",
    "    xy = sum(xy_prod)                            # summation of the products of \"x\" and \"y\"\n",
    "    x_y = sum(x_points) * sum(y_points)          # product of the summaion of \"x\" and summaion of \"y\"\n",
    "    xx = sum(x_squared)                          # summation of \"x\" squared\n",
    "    x_x = (sum(x_points))**2                     # square of the summation of \"x\"\n",
    "    x_mean = sum(x_points)/ len(x_points)        # average of 'x'\n",
    "    y_mean = sum(y_points)/ len(y_points)        # average of \"y\"\n",
    "    m = (xy - (x_y/n))/(xx-(x_x/n))\n",
    "    b = y_mean - m* x_mean\n",
    "    return(\" y = {:.2f}x + {:.1f}\".format(m,b))\n",
    "    \n",
    "\n",
    "x= input(\"Enter the x cordinated: \")\n",
    "y= input(\"Enter the y cordinated: \")\n",
    "list_cord = []\n",
    "while True:\n",
    "    tup_cor = (float(x),float(y))\n",
    "    list_cord.append(tup_cor)\n",
    "    x= input(\"Enter the x cordinated: \")\n",
    "    if not x:\n",
    "        break\n",
    "    else:\n",
    "        y = input(\"Enter the y cordinated: \")\n",
    "print(list_cord)\n",
    "\n",
    "line_of_best_fit(list_cord)"
   ]
  },
  {
   "cell_type": "markdown",
   "id": "72847133",
   "metadata": {},
   "source": [
    "## Question 4\n",
    "\n",
    "Create a program that determines and displays the number of unique characters in a\n",
    "string entered by the user. For example, Hello, World! has 10 unique characters\n",
    "while zzz has only one unique character. Use a dictionary or set to solve this problem."
   ]
  },
  {
   "cell_type": "code",
   "execution_count": null,
   "id": "a6c2967a",
   "metadata": {},
   "outputs": [],
   "source": [
    "# Complete Solution 4 Here: estimated time to complete 20 mins"
   ]
  },
  {
   "cell_type": "code",
   "execution_count": 5,
   "id": "7dfa00fd",
   "metadata": {},
   "outputs": [],
   "source": [
    "# score 10 of 10"
   ]
  },
  {
   "cell_type": "code",
   "execution_count": 4,
   "id": "35e22759",
   "metadata": {},
   "outputs": [
    {
     "data": {
      "text/plain": [
       "3"
      ]
     },
     "execution_count": 4,
     "metadata": {},
     "output_type": "execute_result"
    }
   ],
   "source": [
    "def num_characters(str_):\n",
    "    unique_char = {}\n",
    "    for char in str_:\n",
    "        if char in unique_char:\n",
    "            unique_char[char] = unique_char[char] + 1\n",
    "        else:\n",
    "            unique_char[char] = 1\n",
    "    num_unique_char = len(unique_char.keys())      \n",
    "    return num_unique_char\n",
    "\n",
    "num_characters(\"zzzbbbbd\")"
   ]
  },
  {
   "cell_type": "markdown",
   "id": "b33a4c27",
   "metadata": {},
   "source": [
    "## Question 5\n",
    "\n",
    "Write a class called `Investment` with fields called `principal` and `interest`. The constructor\n",
    "should set the values of those fields. There should be a method called `value_after` that\n",
    "returns the value of the investment after $n$ years. The formula for this is $p(1 + i)^n$, where $p$ is\n",
    "the principal, and $i$ is the interest rate. It should also use the special method `__str__` so that\n",
    "printing the object will result in something like below:\n",
    "`Principal - $1000.00`, `Interest rate - 5.12%`"
   ]
  },
  {
   "cell_type": "code",
   "execution_count": null,
   "id": "d0e9362c",
   "metadata": {},
   "outputs": [],
   "source": [
    "# Complete Solution 5 Here: estimated time to complete 20 mins"
   ]
  },
  {
   "cell_type": "code",
   "execution_count": null,
   "id": "90ce69ae",
   "metadata": {},
   "outputs": [],
   "source": [
    "# score 10 of 10"
   ]
  },
  {
   "cell_type": "code",
   "execution_count": 6,
   "id": "efec57db",
   "metadata": {},
   "outputs": [
    {
     "name": "stdout",
     "output_type": "stream",
     "text": [
      "1647.61\n",
      "Principal - $1000.00, Interest rate - 5.12%\n"
     ]
    }
   ],
   "source": [
    "class Investment:\n",
    "    def __init__(self, principal, interest):\n",
    "        self.principal = float(principal)\n",
    "        self.interest = float(interest)\n",
    "        \n",
    "    def value_after(self, n):\n",
    "        interest_factor = 1 + self.interest/100\n",
    "        interest_n = interest_factor ** n\n",
    "        value = self.principal * interest_n\n",
    "        return (\"{:.2f}\". format(value))\n",
    "    def __str__(self):\n",
    "        return(\"Principal - ${:.2f}, Interest rate - {:.2f}%\".format(self.principal, self.interest))\n",
    "    \n",
    "    \n",
    "Ovie = Investment(1000, 5.12)\n",
    "print(Ovie.value_after(10))\n",
    "print(Ovie)"
   ]
  },
  {
   "cell_type": "code",
   "execution_count": null,
   "id": "a26a0b45",
   "metadata": {},
   "outputs": [],
   "source": []
  }
 ],
 "metadata": {
  "kernelspec": {
   "display_name": "Python 3 (ipykernel)",
   "language": "python",
   "name": "python3"
  },
  "language_info": {
   "codemirror_mode": {
    "name": "ipython",
    "version": 3
   },
   "file_extension": ".py",
   "mimetype": "text/x-python",
   "name": "python",
   "nbconvert_exporter": "python",
   "pygments_lexer": "ipython3",
   "version": "3.9.7"
  }
 },
 "nbformat": 4,
 "nbformat_minor": 5
}
