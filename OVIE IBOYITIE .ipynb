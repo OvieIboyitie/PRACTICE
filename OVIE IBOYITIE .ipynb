{
 "cells": [
  {
   "cell_type": "markdown",
   "id": "e2dea313",
   "metadata": {},
   "source": [
    "\n",
    "$$(x_2,x_1,x_u)--or--(x_l,x_2,x_1)$$\n",
    "\n",
    "SINCE THE POINTS (X1,X2) ARE SYMMETRICAL WE CAN COMPUTE THE ERROR IN TWO WAYS, EITHER OF WHICH IS CORRECT\n",
    "\n",
    "USING \n",
    "$$(x_2,x_1,x_u)$$\n",
    "\n",
    "If the true value (true maximum) is at the far right of the interval (i.e between xu and x1), the maximum distance from the estimate would be\n",
    "\n",
    "$$\\Delta x_a=x_u - x_1$$\n",
    "\n",
    "So,\n",
    "$$\\Delta x_a = x_u - [x_l + R(x_u -x_l)]$$\n",
    "$$\\Delta x_a = x_u - x_l - R(x_u -x_l)$$\n",
    "$$\\Delta x_a =x_u(1-R)-x_l(1-R)$$\n",
    "$$\\Delta x_a = (1-R)(x_u-x_l)$$\n",
    "\n",
    "This result can then be normalised to the optimal value for each iteration. The ratio of xa and xopt should tend to decrease with each iteration. The error can be computed as:\n",
    "$$ea = (1-R)\\frac{(x_u-x_l)}{x_{opt}}*100$$"
   ]
  },
  {
   "cell_type": "code",
   "execution_count": null,
   "id": "2faadb01",
   "metadata": {},
   "outputs": [],
   "source": []
  }
 ],
 "metadata": {
  "kernelspec": {
   "display_name": "Python 3 (ipykernel)",
   "language": "python",
   "name": "python3"
  },
  "language_info": {
   "codemirror_mode": {
    "name": "ipython",
    "version": 3
   },
   "file_extension": ".py",
   "mimetype": "text/x-python",
   "name": "python",
   "nbconvert_exporter": "python",
   "pygments_lexer": "ipython3",
   "version": "3.9.7"
  }
 },
 "nbformat": 4,
 "nbformat_minor": 5
}
