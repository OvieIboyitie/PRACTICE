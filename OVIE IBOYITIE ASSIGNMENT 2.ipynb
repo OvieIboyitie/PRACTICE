{
 "cells": [
  {
   "cell_type": "markdown",
   "id": "d77bd590",
   "metadata": {},
   "source": [
    "## OVIE IBOYITIE\n",
    "\n",
    "\n",
    "#### ASSIGNMENT 2"
   ]
  },
  {
   "cell_type": "code",
   "execution_count": 1,
   "id": "cd79046c",
   "metadata": {},
   "outputs": [
    {
     "name": "stdout",
     "output_type": "stream",
     "text": [
      "True\n"
     ]
    }
   ],
   "source": [
    "def is_greater_than_neighbours(my_list, target_number, number_in_series = 1): # determines if an item is greater than the items on his left and/or right\n",
    "    target_num_in_series = 0\n",
    "    if target_number in my_list:\n",
    "        for i in my_list:\n",
    "            if i == target_number:\n",
    "                target_num_in_series = target_num_in_series + 1  # This is the total number of occurence of the target number\n",
    "       \n",
    "        if target_num_in_series >= number_in_series: \n",
    "            index_target_number = [i for i, n in enumerate(my_list) if n == target_number][number_in_series - 1]\n",
    "            previous_index = index_target_number - 1\n",
    "            next_index = index_target_number + 1\n",
    "            if my_list[0] == target_number:\n",
    "                if target_number > my_list[next_index]:\n",
    "                    print(True)\n",
    "                else:\n",
    "                    print(False)\n",
    "            elif my_list[-1] == target_number:     # if its the last item compare it with previous item only and eliminates the concern about negative indexing\n",
    "                if target_number > my_list[previous_index]:\n",
    "                    print(True)\n",
    "                else:\n",
    "                    print(False)\n",
    "            elif my_list[0] == target_number:   # if its the first item compare it with the next time\n",
    "                if target_number > my_list[next_index]:\n",
    "                    print(True)\n",
    "                else:\n",
    "                    print(False)\n",
    "            elif target_number > my_list[previous_index] and target_number > my_list[next_index]: # if its neither the first compare it with the items on its left and right\n",
    "                print(True)\n",
    "            else:\n",
    "                print(False)\n",
    "        else:\n",
    "            print(\"invalid number of occurence\")\n",
    "    else:\n",
    "        print(\"Target number is not in list\")\n",
    "    \n",
    "    \n",
    "lists = [2, 1, 3, 5, 3, 6, 7, 9, 0, 2, 8, 10, 23, 8, 4, 8]\n",
    "is_greater_than_neighbours(lists, 9, 1)"
   ]
  }
 ],
 "metadata": {
  "kernelspec": {
   "display_name": "Python 3 (ipykernel)",
   "language": "python",
   "name": "python3"
  },
  "language_info": {
   "codemirror_mode": {
    "name": "ipython",
    "version": 3
   },
   "file_extension": ".py",
   "mimetype": "text/x-python",
   "name": "python",
   "nbconvert_exporter": "python",
   "pygments_lexer": "ipython3",
   "version": "3.9.7"
  }
 },
 "nbformat": 4,
 "nbformat_minor": 5
}
